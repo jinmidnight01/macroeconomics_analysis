{
 "cells": [
  {
   "cell_type": "markdown",
   "metadata": {},
   "source": [
    "# Coding Exercise 2"
   ]
  },
  {
   "cell_type": "markdown",
   "metadata": {},
   "source": [
    "## The model\n",
    "\n",
    "- There is only one agent who governs all resource allocations in the economy. She produces a (single) good through a production function:\n",
    "\n",
    "    $$\n",
    "    y_{t} = f(k_{t}) \\tag{1}\n",
    "    $$\n",
    "\n",
    "- The good can be used for consumption and investment. \n",
    "\n",
    "- In this exercise, we introduce a partial capital depreciation, i.e. capital depreciates at the rate $0<\\delta<1$ each period. Hence the resource constraint for the agent is:\n",
    "\n",
    "    <a id='constraint'></a>\n",
    "    $$\n",
    "    k_{t+1} + c_t = y_t + (1-\\delta)k_t \\tag{2}\n",
    "    $$\n",
    "\n",
    "- The agent wants to maximize\n",
    "\n",
    "    <a id='lifetime_utility'></a>\n",
    "    $$\n",
    "    \\mathbb E \\left[ \\sum_{t = 0}^{\\infty} \\beta^t u(c_t) \\right] \\tag{3}\n",
    "    $$\n",
    "    subject to [(2)](#constraint), where $ \\beta \\in (0, 1) $ is a discount factor. \n",
    "   \n",
    "- The model is almost identical to Cass-Koopmans planning model. In order to solve this model, we will apply value function iteration algorithm. Hence, we first reformulate the maximization problem into a Bellman equation. "
   ]
  },
  {
   "cell_type": "markdown",
   "metadata": {},
   "source": [
    "### The Bellman Equation\n",
    "\n",
    "We can write the value function for the agent's utility maximization problem in the form of **Bellman equation**. In this exercise we will use capital ($k$) as state variable instead of output ($y$). The value function is defined as follows:\n",
    "\n",
    "<a id='value_fn'></a>\n",
    "$$\n",
    "v(k) = \\max_{0 \\leq c \\leq y + (1-\\delta)k}\n",
    "    \\left\\{ u(c) + \\beta v(k') \\right\\} \\tag{4}\n",
    "$$\n",
    "subject to \n",
    "$$\n",
    "k' = f(k) + (1-\\delta)k - c \n",
    "$$\n",
    "\n",
    "This formulation takes consumption ($c$) as control variable. For the computation below we will use the next period capital ($k'$) as control variable. Then [(4)](#value_fn) can be rewritten as follows:\n",
    "\n",
    "<a id='Bellman_eq'></a>\n",
    "$$\n",
    "v(k) = \\max_{0 \\leq k' \\leq y + (1-\\delta)k}\n",
    "    \\left\\{ u\\left(f(k) + (1-\\delta)k - k'\\right) + \\beta v(k') \\right\\} \\tag{5}\n",
    "$$\n",
    "\n",
    "Essentially we converted the constrained maximization problem in [(4)](#value_fn) into the unconstrained maximization problem in [(5)](#Bellman_eq)."
   ]
  },
  {
   "cell_type": "markdown",
   "metadata": {},
   "source": [
    "## Question 1: Computation with Value Function Iteration"
   ]
  },
  {
   "cell_type": "markdown",
   "metadata": {},
   "source": [
    "Let's solve for the value function and the optimal policy through the value function iteration method. The algorith is similar to that in the lecture. But the algorithm should be much simpler since no uncertainty is involved in this exercise. No need to compute the Monte Carlo integration here. Due to partial capital depreciation, the value function and the optimal policy function do not allow for analytic form in this exercise.\n",
    "\n",
    "1. jit-compile codes using `numba` package.\n",
    "1. `brent_max` will be used to find the optimal policy for each state. \n",
    "1. `interpolation.interp` will be used to evaluate the value function at an off-grid point."
   ]
  },
  {
   "cell_type": "markdown",
   "metadata": {},
   "source": [
    "### Q.1-0: Import necessary packages."
   ]
  },
  {
   "cell_type": "code",
   "execution_count": 255,
   "metadata": {},
   "outputs": [],
   "source": [
    "# your code here\n",
    "from interpolation import interp\n",
    "from numba import jit, njit, prange, float64, int32\n",
    "from numba.experimental import jitclass\n",
    "from quantecon.optimize.scalar_maximization import brent_max\n",
    "import numpy as np\n",
    "import matplotlib.pyplot as plt\n",
    "%matplotlib inline\n",
    "\n",
    "plt.rcParams['figure.figsize'] = (9,6)"
   ]
  },
  {
   "cell_type": "markdown",
   "metadata": {},
   "source": [
    "### Q.1-1: Define the class for the model economy\n",
    "\n",
    "Write a class **OptimalGrowth** that specifies the following.\n",
    "\n",
    "- discount factor: $\\beta = 0.96$\n",
    "- uility function: $\\frac{c^{1-\\gamma}}{1-\\gamma}$ with $\\gamma=2$\n",
    "- production function: $f(k) = k^\\alpha$ with $\\alpha = 0.4$\n",
    "- capital depreciation rate: $\\delta=0.1$\n",
    "- grid vector for the state variable: $k \\in [0.1, 10]$ with grid_size = 500\n",
    "- collect the model parameters and declare their types in **opt_growth_data**\n",
    "- jit-compile the class with `@jitclass`\n",
    "\n",
    "The contents of the class should be very similar to those from the lecture."
   ]
  },
  {
   "cell_type": "code",
   "execution_count": 256,
   "metadata": {},
   "outputs": [],
   "source": [
    "# your code here\n",
    "opt_growth_data = [\n",
    "    ('α', float64),          # Production parameter\n",
    "    ('β', float64),          # Discount factor\n",
    "    ('γ', float64),           # Preference parameter\n",
    "    ('δ', float64),           # capital depreciation rate\n",
    "    ('grid', float64[:]),    # Grid (array)\n",
    "]\n",
    "\n",
    "@jitclass(opt_growth_data)\n",
    "class OptimalGrowth:\n",
    "\n",
    "    def __init__(self,\n",
    "                α=0.4, \n",
    "                β=0.96,\n",
    "                γ=2,\n",
    "                δ=0.1,\n",
    "                grid_max=10,\n",
    "                grid_size=500,\n",
    "                seed=1234):\n",
    "\n",
    "        self.α, self.β, self.γ, self.δ = α, β, γ, δ\n",
    "\n",
    "        # Set up grid\n",
    "        self.grid = np.linspace(0.1, grid_max, grid_size)\n",
    "\n",
    "       \n",
    "    def f(self, k):\n",
    "        \"The production function\"\n",
    "        return k**self.α\n",
    "\n",
    "    def u(self, c):\n",
    "        \"The utility function\"\n",
    "        return c**(1 - self.γ) / (1 - self.γ)\n",
    "    \n",
    "\n",
    "    def objective(self, nk, k, v_array):\n",
    "        \"\"\"\n",
    "        Right hand side of the Bellman equation.\n",
    "\n",
    "         * nk is next period capital\n",
    "         * k is capital\n",
    "         * og is an instance of OptimalGrowth\n",
    "         * v_array represents a guess of the value function on the grid\n",
    "\n",
    "        \"\"\"\n",
    "\n",
    "        u, f,β,δ = self.u, self.f, self.β, self.δ\n",
    "\n",
    "        v = lambda x: interp(self.grid, v_array, x)\n",
    "\n",
    "        return u(f(k)+(1-δ)*k-nk) + β * v(nk)    "
   ]
  },
  {
   "cell_type": "markdown",
   "metadata": {},
   "source": [
    "### Q.1-2: Define the Bellman Operator\n",
    "\n",
    "Write a function that defines the right-hand side of the Bellman equation.\n",
    "\n",
    "- function head: **T(v, og_VI)** \n",
    "- `v` is the vector of value function in the current iteration.\n",
    "- `og_VI` is the instance of the class `OptimalGrowth_VI` to be initiated later.\n",
    "- solve the maximization problem using `brent_max` function. You may refer to [this site](https://quanteconpy.readthedocs.io/en/latest/optimize/scalar_maximization.html) to find the usage of `brent_max`.\n",
    "- use `brent_max` function with caution in setting the range of $k'$ to make sure consumption nonnegative.\n",
    "- update the value function `v_new` and the optimal policy function `v_greedy`.\n",
    "- jit-compile the function with `@njit`"
   ]
  },
  {
   "cell_type": "code",
   "execution_count": 257,
   "metadata": {},
   "outputs": [],
   "source": [
    "# your code here\n",
    "@njit\n",
    "def T(v, og_VI):\n",
    "    v_new = np.empty_like(v)\n",
    "    v_greedy = np.empty_like(v)\n",
    "\n",
    "    for j in range(len(og_VI.grid)):\n",
    "        k = og_VI.grid[j]\n",
    "\n",
    "        # Maximize RHS of Bellman equation at state k\n",
    "        result = brent_max(og_VI.objective, 1e-10, og_VI.f(k)+0.9*k, args=(k, v))\n",
    "        v_greedy[j], v_new[j] = result[0], result[1]\n",
    "\n",
    "    return v_greedy, v_new"
   ]
  },
  {
   "cell_type": "markdown",
   "metadata": {},
   "source": [
    "### Q.1-3: Implement the Value Function Iteration\n",
    "\n",
    "Write a function that iterates the Bellman operator until the value function converges. \n",
    "\n",
    "- function head: `solve_model_VI(og_VI, tol=1e-4, max_iter=1000, print_skip=20)`\n",
    "- the arguements are analogous to those in the lecture.\n",
    "- use the grid vector for the state variable itself as the initial guess for the value function.\n",
    "- while iterating, the function should show the progress every 20 iteration.\n",
    "- the function should return the converged value function and the accompanying greedy function."
   ]
  },
  {
   "cell_type": "code",
   "execution_count": 258,
   "metadata": {},
   "outputs": [],
   "source": [
    "# your code here\n",
    "def solve_model_VI(og_VI,\n",
    "                tol=1e-4,\n",
    "                max_iter=1000,\n",
    "                print_skip=20,\n",
    "                verbose = True):\n",
    "    \"\"\"\n",
    "    Solve model by iterating with the Bellman operator.\n",
    "\n",
    "    \"\"\"\n",
    "\n",
    "    # Set up loop\n",
    "    v = og_VI.u(og_VI.grid)  # Initial condition\n",
    "    i = 0\n",
    "    error = tol + 1\n",
    "\n",
    "    while i < max_iter and error > tol:\n",
    "        v_greedy, v_new = T(v, og_VI)\n",
    "        error = np.max(np.abs(v - v_new))\n",
    "        i += 1\n",
    "        if verbose and i % print_skip == 0:\n",
    "            print(f\"Error at iteration {i} is {error}.\")\n",
    "        v = v_new\n",
    "\n",
    "    if i == max_iter:\n",
    "        print(\"Failed to converge!\")\n",
    "\n",
    "    if verbose and i < max_iter:\n",
    "        print(f\"\\nConverged in {i} iterations.\")\n",
    "\n",
    "    return v_greedy, v_new"
   ]
  },
  {
   "cell_type": "markdown",
   "metadata": {},
   "source": [
    "### Q.1-4: Run the Value function iteration\n",
    "\n",
    "- create an instance of the class OptimalGrowth_VI `og_VI` with the default parameter values defined in the class.\n",
    "- run `solve_model_VI`.\n",
    "- using the converged policy function `k_opt_VI`, compute the optimal consumption with respect to capital `c_opt_VI`. \n",
    "- plot figures for the converged value function, the policy function and the consumption function.\n"
   ]
  },
  {
   "cell_type": "code",
   "execution_count": 259,
   "metadata": {},
   "outputs": [
    {
     "name": "stdout",
     "output_type": "stream",
     "text": [
      "Error at iteration 20 is 0.3886781008870521.\n",
      "Error at iteration 40 is 0.15387619381741047.\n",
      "Error at iteration 60 is 0.06669488089628572.\n",
      "Error at iteration 80 is 0.02936971118219489.\n",
      "Error at iteration 100 is 0.012972191087037288.\n",
      "Error at iteration 120 is 0.005732919080493559.\n",
      "Error at iteration 140 is 0.0025338797364433674.\n",
      "Error at iteration 160 is 0.0011199689402907609.\n",
      "Error at iteration 180 is 0.000495030382825945.\n",
      "Error at iteration 200 is 0.0002188032889485214.\n",
      "Error at iteration 220 is 9.671651267595394e-05.\n",
      "\n",
      "Converged in 220 iterations.\n"
     ]
    }
   ],
   "source": [
    "# your code here\n",
    "\n",
    "# create an instance of the class OptimalGrowth_VI og_VI with the default parameter values defined in the class\n",
    "og_VI = OptimalGrowth(α=0.4, \n",
    "                β=0.96,\n",
    "                γ=2,\n",
    "                δ=0.1,\n",
    "                grid_max=10,\n",
    "                grid_size=500,\n",
    "                seed=1234)\n",
    "\n",
    "# run solve_model_VI\n",
    "k_opt, v_new = solve_model_VI(og_VI,\n",
    "                tol=1e-4,\n",
    "                max_iter=1000,\n",
    "                print_skip=20,\n",
    "                verbose = True)"
   ]
  },
  {
   "cell_type": "code",
   "execution_count": 260,
   "metadata": {
    "scrolled": false
   },
   "outputs": [
    {
     "data": {
      "text/plain": [
       "array([0.52285978, 0.55057108, 0.57188818, 0.59081848, 0.61188078,\n",
       "       0.62720598, 0.64197855, 0.6582735 , 0.67360654, 0.68544415,\n",
       "       0.69697788, 0.70999868, 0.72234154, 0.73403294, 0.74445814,\n",
       "       0.75341204, 0.76288855, 0.77295283, 0.78264693, 0.79200478,\n",
       "       0.8010515 , 0.80980939, 0.81806408, 0.82540372, 0.83260067,\n",
       "       0.83999673, 0.84765187, 0.85510132, 0.86236514, 0.86945669,\n",
       "       0.87638551, 0.88315927, 0.88978414, 0.89626784, 0.90261792,\n",
       "       0.90883836, 0.91493405, 0.92091   , 0.92662622, 0.93212975,\n",
       "       0.93755342, 0.94289893, 0.94817047, 0.95336754, 0.95849308,\n",
       "       0.96359357, 0.96871972, 0.97376325, 0.97872738, 0.98361121,\n",
       "       0.98841877, 0.99315418, 0.99782131, 1.00242352, 1.00696202,\n",
       "       1.01143702, 1.01584988, 1.02020213, 1.02449528, 1.02873064,\n",
       "       1.03290993, 1.03703177, 1.04109812, 1.04511252, 1.0490782 ,\n",
       "       1.05299838, 1.05687345, 1.06070233, 1.06448549, 1.06822375,\n",
       "       1.07191794, 1.07556865, 1.0791773 , 1.08274113, 1.08626174,\n",
       "       1.08974309, 1.0932691 , 1.09676068, 1.10021807, 1.10364113,\n",
       "       1.10703039, 1.11038692, 1.11371055, 1.11700214, 1.12022299,\n",
       "       1.123351  , 1.12644216, 1.12949844, 1.1325252 , 1.13552605,\n",
       "       1.13850304, 1.14145519, 1.14437885, 1.14727533, 1.15014387,\n",
       "       1.152985  , 1.15579812, 1.15858057, 1.16132859, 1.16404993,\n",
       "       1.1667503 , 1.16943318, 1.17209856, 1.17474048, 1.17735905,\n",
       "       1.17995441, 1.18252637, 1.18507387, 1.18759517, 1.19017294,\n",
       "       1.19277836, 1.19536271, 1.19792532, 1.20035779, 1.2027543 ,\n",
       "       1.20513119, 1.20748844, 1.20982604, 1.21214347, 1.21443885,\n",
       "       1.21670936, 1.21895427, 1.22118481, 1.22340432, 1.22561278,\n",
       "       1.22780425, 1.22997848, 1.23213544, 1.23427449, 1.23639279,\n",
       "       1.23848873, 1.24065405, 1.24285303, 1.24503501, 1.24711225,\n",
       "       1.24913505, 1.25114279, 1.25313548, 1.2551129 , 1.25707393,\n",
       "       1.25901363, 1.26093049, 1.26283555, 1.2647366 , 1.26662703,\n",
       "       1.26850399, 1.27036738, 1.27221702, 1.27405119, 1.27586699,\n",
       "       1.27777318, 1.27969126, 1.28155596, 1.28332071, 1.2850748 ,\n",
       "       1.28681691, 1.28854686, 1.29026429, 1.29196604, 1.29364731,\n",
       "       1.29531592, 1.29698088, 1.29863753, 1.30028339, 1.30191818,\n",
       "       1.30354129, 1.30515142, 1.3068385 , 1.30854513, 1.31017954,\n",
       "       1.31174019, 1.31329303, 1.31483651, 1.31636962, 1.31789161,\n",
       "       1.3194003 , 1.32089368, 1.32237784, 1.32385675, 1.3253272 ,\n",
       "       1.32678851, 1.32823944, 1.32968012, 1.3312064 , 1.33274068,\n",
       "       1.33417875, 1.33557678, 1.33696702, 1.33834938, 1.33972073,\n",
       "       1.34108315, 1.34243662, 1.34377748, 1.34511123, 1.34643907,\n",
       "       1.34775568, 1.34906371, 1.35036575, 1.35173924, 1.35313041,\n",
       "       1.35443108, 1.35569638, 1.35694966, 1.35819545, 1.35943761,\n",
       "       1.3606732 , 1.36189967, 1.36311128, 1.36431278, 1.36551403,\n",
       "       1.36670976, 1.36789637, 1.36909596, 1.37036762, 1.37158921,\n",
       "       1.37274336, 1.3738913 , 1.37503002, 1.37615859, 1.37728017,\n",
       "       1.37839824, 1.37950889, 1.38060687, 1.38169711, 1.38278601,\n",
       "       1.38386783, 1.38496218, 1.38612454, 1.38723472, 1.3882879 ,\n",
       "       1.38933295, 1.39037081, 1.3914032 , 1.39242877, 1.39344457,\n",
       "       1.39445567, 1.395462  , 1.39645644, 1.39744674, 1.3984345 ,\n",
       "       1.39946768, 1.40053028, 1.40150395, 1.40246464, 1.40341885,\n",
       "       1.40436663, 1.40530796, 1.4062428 , 1.40717143, 1.40809322,\n",
       "       1.40900875, 1.40991738, 1.41082018, 1.41174707, 1.41272476,\n",
       "       1.41363743, 1.41452036, 1.41539725, 1.41626828, 1.41713311,\n",
       "       1.41799183, 1.41884441, 1.41969067, 1.42053045, 1.42136336,\n",
       "       1.42218942, 1.42304073, 1.42393937, 1.42477214, 1.4255844 ,\n",
       "       1.42639132, 1.42719296, 1.42798932, 1.42878043, 1.42956632,\n",
       "       1.43034702, 1.43112258, 1.43189301, 1.43265815, 1.43341718,\n",
       "       1.43421819, 1.43496007, 1.43570393, 1.43644351, 1.43717836,\n",
       "       1.43790837, 1.43863353, 1.43935387, 1.44006941, 1.44078015,\n",
       "       1.44148598, 1.44218719, 1.44293745, 1.44366726, 1.44434696,\n",
       "       1.44502224, 1.44569437, 1.44636286, 1.4470275 , 1.44768816,\n",
       "       1.44834473, 1.44899703, 1.44964525, 1.45028927, 1.45095949,\n",
       "       1.45165052, 1.45228024, 1.45290183, 1.45352116, 1.45413545,\n",
       "       1.4547468 , 1.45535369, 1.45595684, 1.45655615, 1.45715123,\n",
       "       1.45774249, 1.45834681, 1.45898809, 1.45956974, 1.46014401,\n",
       "       1.46071076, 1.46127454, 1.46183707, 1.46239317, 1.46294564,\n",
       "       1.46349585, 1.46404172, 1.46458297, 1.46513391, 1.4657222 ,\n",
       "       1.46625638, 1.46678252, 1.46730415, 1.46781911, 1.46833165,\n",
       "       1.46884286, 1.46934993, 1.46985138, 1.47034937, 1.47084504,\n",
       "       1.47135269, 1.47188993, 1.47237404, 1.47285356, 1.47332967,\n",
       "       1.47380288, 1.47426999, 1.47473428, 1.47519634, 1.47565506,\n",
       "       1.47611062, 1.47656159, 1.47703239, 1.47751085, 1.47795108,\n",
       "       1.4783885 , 1.4788226 , 1.47925346, 1.47967966, 1.48009899,\n",
       "       1.48051801, 1.48093528, 1.48134928, 1.48176006, 1.48219959,\n",
       "       1.48262175, 1.48301983, 1.48341422, 1.48380701, 1.48419752,\n",
       "       1.48458474, 1.48496778, 1.48534521, 1.48572083, 1.48609341,\n",
       "       1.48647336, 1.48687743, 1.48724174, 1.48760314, 1.48796104,\n",
       "       1.48831488, 1.48866459, 1.48901206, 1.48935643, 1.48969615,\n",
       "       1.49003433, 1.49037114, 1.49072947, 1.4910755 , 1.49140197,\n",
       "       1.49172479, 1.49204473, 1.49236191, 1.49267583, 1.49298614,\n",
       "       1.49329447, 1.49360031, 1.49390142, 1.49421144, 1.49453472,\n",
       "       1.49482829, 1.49511899, 1.49540699, 1.495692  , 1.49597389,\n",
       "       1.49625292, 1.49652965, 1.4968037 , 1.49707358, 1.49734006,\n",
       "       1.49763394, 1.49789923, 1.49815899, 1.4984161 , 1.49867038,\n",
       "       1.49892182, 1.49917043, 1.49941647, 1.49966006, 1.4999009 ,\n",
       "       1.50013821, 1.50038995, 1.50063151, 1.50085922, 1.50108654,\n",
       "       1.50131131, 1.50153342, 1.50175285, 1.50196959, 1.50218375,\n",
       "       1.50239541, 1.50260462, 1.50282081, 1.50303912, 1.50323923,\n",
       "       1.50343404, 1.50362853, 1.50382212, 1.50401336, 1.50420209,\n",
       "       1.50438829, 1.50457195, 1.5047531 , 1.5049387 , 1.50512843,\n",
       "       1.50530196, 1.50547296, 1.50564026, 1.50580541, 1.50596685,\n",
       "       1.50612701, 1.50628576, 1.50644251, 1.50659691, 1.50675512,\n",
       "       1.50691553, 1.5070625 , 1.50720707, 1.50734919, 1.50748796,\n",
       "       1.50762519, 1.50776043, 1.50789267, 1.50802261, 1.50814983,\n",
       "       1.50828083, 1.50841251, 1.50853318, 1.50865207, 1.50876886,\n",
       "       1.50888336, 1.50899479, 1.50910459, 1.50921243, 1.50931797,\n",
       "       1.50942086, 1.50952604, 1.50963158, 1.50972799, 1.50982217,\n",
       "       1.50991392, 1.51000348, 1.51009058, 1.51017481, 1.51025785,\n",
       "       1.51033918, 1.51041846, 1.51050036, 1.51057879, 1.51065118,\n",
       "       1.51072142, 1.51078978, 1.51085612, 1.51092031, 1.51098216,\n",
       "       1.51104154, 1.51109938, 1.51115526, 1.51121288, 1.51126637])"
      ]
     },
     "execution_count": 260,
     "metadata": {},
     "output_type": "execute_result"
    }
   ],
   "source": [
    "# using the converged policy function k_opt_VI, compute the optimal consumption with respect to capital c_opt_VI\n",
    "k_opt_VI = k_opt\n",
    "c_opt_VI = og_VI.f(k_opt_VI)+(1-og_VI.δ)*k_opt_VI-k_opt_VI\n",
    "c_opt_VI"
   ]
  },
  {
   "cell_type": "code",
   "execution_count": 261,
   "metadata": {},
   "outputs": [
    {
     "data": {
      "image/png": "[encoded data removed]",
      "text/plain": [
       "<Figure size 648x432 with 1 Axes>"
      ]
     },
     "metadata": {
      "needs_background": "light"
     },
     "output_type": "display_data"
    }
   ],
   "source": [
    "# plot figures for the converged value function\n",
    "fig, ax = plt.subplots()\n",
    "ax.plot(og_VI.grid, v_new, lw=2, alpha=0.6, label='converged value function')\n",
    "ax.legend()\n",
    "plt.show()"
   ]
  },
  {
   "cell_type": "code",
   "execution_count": 262,
   "metadata": {},
   "outputs": [
    {
     "data": {
      "image/png": "[encoded data removed]",
      "text/plain": [
       "<Figure size 648x432 with 1 Axes>"
      ]
     },
     "metadata": {
      "needs_background": "light"
     },
     "output_type": "display_data"
    }
   ],
   "source": [
    "# plot figures for the policy function\n",
    "fig, ax = plt.subplots()\n",
    "ax.plot(og_VI.grid, k_opt_VI, 'b-', lw=2, alpha=0.6, label='the policy function')\n",
    "ax.legend()\n",
    "plt.show()"
   ]
  },
  {
   "cell_type": "code",
   "execution_count": 263,
   "metadata": {},
   "outputs": [
    {
     "data": {
      "image/png": "[encoded data removed]",
      "text/plain": [
       "<Figure size 648x432 with 1 Axes>"
      ]
     },
     "metadata": {
      "needs_background": "light"
     },
     "output_type": "display_data"
    }
   ],
   "source": [
    "# plot figures for the consumption function.\n",
    "fig, ax = plt.subplots()\n",
    "ax.plot(og_VI.grid, c_opt_VI, 'b-', lw=2, alpha=0.6, label='the consumption function')\n",
    "ax.legend()\n",
    "plt.show()"
   ]
  },
  {
   "cell_type": "markdown",
   "metadata": {},
   "source": [
    "### Q.1-5: Compute the time-series of capital and consumption\n",
    "\n",
    "Suppose that the agent is endowed with $k_0$ at the very first period of her life. Each period, she chooses $k_{t+1}$, equivalently $c_t$, according to the policy function computed above. We want to compute the time-series of $k_t$ and $c_t$ thoughout her life using the optimal policy functions computed above.\n",
    "\n",
    "Write a function that simulates the capital and consumption of the agent. This function will be used again for the time iteration algorithm below.\n",
    "\n",
    "- function head: Simulate_Time_Series(T, k0, og, k_opt, c_opt)\n",
    "    - `T`: length of time-series\n",
    "    - `k0`: initial capital holdings\n",
    "    - `og`: model\n",
    "    - `k_opt`: converged policy function for $k'$ \n",
    "    - `c_opt`: policy function for $c$ \n",
    "- need to interpolate policy functions\n",
    "- compute and plot the time-series $\\{k_t, c_t\\}$ for $t=0, 1, \\cdots T$.\n"
   ]
  },
  {
   "cell_type": "code",
   "execution_count": 264,
   "metadata": {},
   "outputs": [],
   "source": [
    "# your code here\n",
    "from scipy.interpolate import interp1d\n",
    "\n",
    "def Simulate_Time_Series(T, k0, og, k_opt, c_opt):\n",
    "    k = np.empty(T)\n",
    "    c = np.empty(T)\n",
    "    k[0] = k0\n",
    "    c[0] = og.f(k0)+(1-og.δ)*k0-k0\n",
    "    k_func = lambda x: interp(og.grid, k_opt, x)\n",
    "    c_func = lambda x: interp(og.grid, c_opt, x)\n",
    "    for t in range(T-1):\n",
    "        k[t+1] = k_func(k[t])\n",
    "        c[t+1] = c_func(c[t])\n",
    "    return k,c"
   ]
  },
  {
   "cell_type": "markdown",
   "metadata": {},
   "source": [
    "### Q.1-6: Generate and plot the time series of capital and consumption\n",
    "\n",
    "Generate and plot `k_path_VI` and `c_path_VI` for $t=0, 1, \\cdots, 100$ with $k_0 = 1$."
   ]
  },
  {
   "cell_type": "code",
   "execution_count": 265,
   "metadata": {},
   "outputs": [],
   "source": [
    "# your code here\n",
    "\n",
    "og = OptimalGrowth(α=0.4, \n",
    "                β=0.96,\n",
    "                γ=2,\n",
    "                δ=0.1,\n",
    "                grid_max=10,\n",
    "                grid_size=500,\n",
    "                seed=1234)\n",
    "\n",
    "# Generate k_path_VI and c_path_VI\n",
    "k_path_VI, c_path_VI = Simulate_Time_Series(T=101, k0=1, og=og, k_opt=k_opt_VI, c_opt=c_opt_VI)"
   ]
  },
  {
   "cell_type": "code",
   "execution_count": 266,
   "metadata": {},
   "outputs": [
    {
     "data": {
      "image/png": "[encoded data removed]",
      "text/plain": [
       "<Figure size 648x432 with 1 Axes>"
      ]
     },
     "metadata": {
      "needs_background": "light"
     },
     "output_type": "display_data"
    }
   ],
   "source": [
    "# plot k_path_VI\n",
    "fig, ax = plt.subplots()\n",
    "ax.plot(k_path_VI, 'b-', lw=2, alpha=0.6, label='capital path')\n",
    "ax.legend()\n",
    "plt.show()"
   ]
  },
  {
   "cell_type": "code",
   "execution_count": 267,
   "metadata": {},
   "outputs": [
    {
     "data": {
      "image/png": "[encoded data removed]",
      "text/plain": [
       "<Figure size 648x432 with 1 Axes>"
      ]
     },
     "metadata": {
      "needs_background": "light"
     },
     "output_type": "display_data"
    }
   ],
   "source": [
    "# plot c_path_VI\n",
    "fig, ax = plt.subplots()\n",
    "ax.plot(c_path_VI, 'b-', lw=2, alpha=0.6, label='consumption path')\n",
    "ax.legend()\n",
    "plt.show()"
   ]
  },
  {
   "cell_type": "markdown",
   "metadata": {},
   "source": [
    "## Question 2: Computation with Time Iteration"
   ]
  },
  {
   "cell_type": "markdown",
   "metadata": {},
   "source": [
    "Now we will solve the above model with a different computation algorithm, time iteration by Coleman. The utility and production functions satisfy all assumptions for the value function to be strictly concave, increasing and continuously differentiable. Hence the first-order conditions for the maximization yield the **Euler equation** as follows:\n",
    "\n",
    "$$\n",
    "u' (c) = \\beta u'(c') [f'(k') + 1 - \\delta]\n",
    "$$\n",
    "\n",
    "Equivalently, using the resource constraint, it can be written as:\n",
    "\n",
    "$$\n",
    "u' \\left( f(k) + (1-\\delta)k - k' \\right) = \\beta u' \\left( f(k') + (1-\\delta)k' - k'' \\right) \\left[ f'(k') + 1 - \\delta \\right]\n",
    "$$\n",
    "\n",
    "This Euler equation takes the form of the second order deffference equation, which is difficult to solve for. However, the essence of the time iteration algorithm is to find the fixed point of the policy function, $k' = \\sigma^*(k)$, through iterating the Coleman operator $K\\sigma$ that is defined:\n",
    "\n",
    "<a id='euler_eq'></a>\n",
    "$$\n",
    "u' \\left( f(k) + (1-\\delta)k - k' \\right) = \\beta u' \\left( f(k') + (1-\\delta)k' - \\sigma(k') \\right) \\left[ f'(k') + 1 - \\delta \\right] \\tag{6}\n",
    "$$\n"
   ]
  },
  {
   "cell_type": "markdown",
   "metadata": {},
   "source": [
    "### Q.2-1: Define the new class for the Time Iteration\n",
    "\n",
    "- class name: **OptimalGrowth_TI**\n",
    "- use the same parameter values as in the previous class **OptimalGrowth_VI**.\n",
    "- use the same production and utility functions as in **OptimalGrowth_VI**.\n",
    "- define functions for the derives of production and utility functions.\n",
    "- define a function for the Euler equation.\n",
    "- collect the model parameters and declare their types in **opt_growth_data**.\n",
    "- jit-compile the class with `@jitclass`\n"
   ]
  },
  {
   "cell_type": "code",
   "execution_count": 268,
   "metadata": {},
   "outputs": [],
   "source": [
    "# your code here\n",
    "from quantecon.optimize import brentq\n",
    "import quantecon as qe\n",
    "\n",
    "plt.rcParams['figure.figsize'] = (10,6)\n",
    "\n",
    "opt_growth_data = [\n",
    "    ('α', float64),          # Production parameter\n",
    "    ('β', float64),          # Discount factor\n",
    "    ('γ', float64),           # Preference parameter\n",
    "    ('δ', float64),           # capital depreciation rate\n",
    "    ('grid', float64[:]),    # Grid (array)\n",
    "]\n",
    "\n",
    "@jitclass(opt_growth_data)\n",
    "class OptimalGrowth_TI:\n",
    "\n",
    "    def __init__(self,\n",
    "                α=0.4, \n",
    "                β=0.96,\n",
    "                γ=2,\n",
    "                δ=0.1,\n",
    "                grid_max=10,\n",
    "                grid_size=500,\n",
    "                seed=1234):\n",
    "\n",
    "        self.α, self.β, self.γ, self.δ = α, β, γ, δ\n",
    "\n",
    "        # Set up grid\n",
    "        self.grid = np.linspace(0.1, grid_max, grid_size)\n",
    "\n",
    "       \n",
    "    def f(self, k):\n",
    "        \"The production function\"\n",
    "        return k**self.α\n",
    "\n",
    "    def u(self, c):\n",
    "        \"The utility function\"\n",
    "        return c**(1 - self.γ) / (1 - self.γ)\n",
    "\n",
    "    def f_prime(self, k):\n",
    "        \"Derivative of f\"\n",
    "        return self.α * (k**(self.α - 1))\n",
    "\n",
    "\n",
    "    def u_prime(self, c):\n",
    "        \"Derivative of u\"\n",
    "        return c**(-self.γ)\n",
    "\n",
    "\n",
    "    def euler_diff(self, nk, σ, k):\n",
    "        \"\"\"\n",
    "        Set up a function such that the root with respect to nk,\n",
    "        given k and σ, is equal to Kσ(k).\n",
    "\n",
    "        \"\"\"\n",
    "\n",
    "        β, δ, grid = self.β, self.δ,self.grid\n",
    "        f, f_prime, u_prime = self.f, self.f_prime, self.u_prime\n",
    "\n",
    "        # First turn σ into a function via interpolation\n",
    "        σ_func = lambda x: interp(grid, σ, x)\n",
    "\n",
    "        # Now set up the function we need to find the root of.\n",
    "        # nk is k'\n",
    "        vals = u_prime(f(nk)+(1-δ)*nk-σ_func(nk))*(f_prime(nk)+1-δ)\n",
    "        return u_prime(f(k)+(1-δ)*k-nk) - β * vals"
   ]
  },
  {
   "cell_type": "markdown",
   "metadata": {},
   "source": [
    "### Q.2-2: Define the Coleman operator\n",
    "\n",
    "Write a function that defines the Coleman operator $K$ that updates the optimal policy function $\\sigma$ by solving the (nonlinear) Equler equation for the optimal $k'$. The contents of the function should be very similar to those of `T`, the Bellman operator for the value function iteration algorithm. \n",
    "\n",
    "- function head: **K($\\sigma$, og_TI)**\n",
    "- $\\sigma$ is the vector of optimal policy for $k'$ in the current iteration.\n",
    "- `og_TI` is the instance of the class OptimalGrowth_TI to be initiated later.\n",
    "- solve the nonlinear euqation for $k'$ for each grid of $k$ using `brentq` function. You may refer to [this site](https://quanteconpy.readthedocs.io/en/latest/optimize/root_finding.html) to find the usage of `brentq`.\n",
    "- update the policy value function $\\sigma_{new}$.\n",
    "- jit-compile the function with @njit\n",
    "- need to import `brentq`:"
   ]
  },
  {
   "cell_type": "code",
   "execution_count": 269,
   "metadata": {},
   "outputs": [],
   "source": [
    "from quantecon.optimize.root_finding import brentq"
   ]
  },
  {
   "cell_type": "markdown",
   "metadata": {},
   "source": [
    "- code for the function **K($\\sigma$, og_TI)** below:"
   ]
  },
  {
   "cell_type": "code",
   "execution_count": 270,
   "metadata": {},
   "outputs": [],
   "source": [
    "# your code here\n",
    "@njit\n",
    "def K(σ, og_TI):\n",
    "    \"\"\"\n",
    "    The Coleman-Reffett operator\n",
    "\n",
    "     Here og is an instance of OptimalGrowthModel.\n",
    "    \"\"\"\n",
    "\n",
    "    β,δ = og_TI.β, og_TI.δ\n",
    "    f, f_prime, u_prime = og_TI.f, og_TI.f_prime, og_TI.u_prime\n",
    "    grid = og_TI.grid\n",
    "\n",
    "    σ_new = np.empty_like(σ)\n",
    "    for i, k in enumerate(grid):\n",
    "        # Solve for optimal nk at k\n",
    "        results = brentq(og_TI.euler_diff, 1e-10, f(k)+(1-δ)*k-1e-10, args=(σ, k))\n",
    "        σ_new[i] = results[0]\n",
    "\n",
    "    return σ_new"
   ]
  },
  {
   "cell_type": "markdown",
   "metadata": {},
   "source": [
    "### Q.2-3: Implement the Time Iteration\n",
    "\n",
    "Write a function that iterates the Coleman operator until the policy function converges. \n",
    "\n",
    "- function head: `solve_model_TI(og_TI, tol=1e-4, max_iter=1000, print_skip=5)`\n",
    "- the contents of the function are similar to those in the previous `solve_model_VI`."
   ]
  },
  {
   "cell_type": "code",
   "execution_count": 271,
   "metadata": {},
   "outputs": [],
   "source": [
    "# your code here\n",
    "def solve_model_TI(og_TI,    # Class with model information\n",
    "                   σ,        # Initial condition\n",
    "                   tol=1e-4,\n",
    "                   max_iter=1000,\n",
    "                   print_skip=5,\n",
    "                   verbose=True):\n",
    "\n",
    "    # Set up loop\n",
    "    i = 0\n",
    "    error = tol + 1\n",
    "\n",
    "    while i < max_iter and error > tol:\n",
    "        σ_new = K(σ, og_TI)\n",
    "        error = np.max(np.abs(σ - σ_new))\n",
    "        i += 1\n",
    "        if verbose and i % print_skip == 0:\n",
    "            print(f\"Error at iteration {i} is {error}.\")\n",
    "        σ = σ_new\n",
    "\n",
    "    if i == max_iter:\n",
    "        print(\"Failed to converge!\")\n",
    "\n",
    "    if verbose and i < max_iter:\n",
    "        print(f\"\\nConverged in {i} iterations.\")\n",
    "\n",
    "    return σ_new"
   ]
  },
  {
   "cell_type": "markdown",
   "metadata": {},
   "source": [
    "### Q.2-4: Run the Time Iteration\n",
    "\n",
    "- create an instance of the class OptimalGrowth `og_TI` with the default parameter values defined in the class.\n",
    "- run `solve_model_TI`.\n",
    "- using the converged policy function `k_opt_TI`, compute the optimal consumption with respect to capital `c_opt_TI`. \n",
    "- plot figures for the converged policy function and the consumption function.\n",
    "- compute the steady state capital $k^*$ such that $k^*=k'(k^*)$ which is the solution to $1 = \\beta \\left(f'(k^*) + 1- \\delta \\right)$. \n",
    "- add a 45 degree line on the figure for the policy function to identify the steady state capital.\n",
    "- put a mark at the coordinate of the steady state in the figure for the policy function."
   ]
  },
  {
   "cell_type": "code",
   "execution_count": 272,
   "metadata": {},
   "outputs": [
    {
     "name": "stdout",
     "output_type": "stream",
     "text": [
      "Error at iteration 5 is 0.029038969280886562.\n",
      "Error at iteration 10 is 0.0195602206299359.\n",
      "Error at iteration 15 is 0.009274881700076065.\n",
      "Error at iteration 20 is 0.003608511692590355.\n",
      "Error at iteration 25 is 0.001305904237108635.\n",
      "Error at iteration 30 is 0.00046365244006452144.\n",
      "Error at iteration 35 is 0.00016423748952121286.\n",
      "\n",
      "Converged in 38 iterations.\n"
     ]
    }
   ],
   "source": [
    "# your code here\n",
    "\n",
    "# create an instance of the class OptimalGrowth og_TI\n",
    "og_TI = OptimalGrowth_TI(α=0.4, \n",
    "                β=0.96,\n",
    "                γ=2,\n",
    "                δ=0.1,\n",
    "                grid_max=10,\n",
    "                grid_size=500,\n",
    "                seed=1234)\n",
    "\n",
    "# run solve_model_TI\n",
    "σ_init = np.copy(og_TI.grid)\n",
    "σ = solve_model_TI(og_TI, σ_init)"
   ]
  },
  {
   "cell_type": "code",
   "execution_count": 273,
   "metadata": {},
   "outputs": [
    {
     "data": {
      "text/plain": [
       "array([0.52463952, 0.54957384, 0.57178744, 0.5918603 , 0.61027032,\n",
       "       0.62731484, 0.64319734, 0.65810673, 0.67217531, 0.68550859,\n",
       "       0.69818425, 0.71028205, 0.7218605 , 0.73296914, 0.74364961,\n",
       "       0.75393741, 0.76386443, 0.77346063, 0.78275034, 0.79175509,\n",
       "       0.80049407, 0.80898452, 0.81724193, 0.82528026, 0.8331112 ,\n",
       "       0.84074717, 0.84819887, 0.85547587, 0.86258699, 0.86954032,\n",
       "       0.87634327, 0.88300279, 0.88952535, 0.89591691, 0.90218302,\n",
       "       0.90832885, 0.91435924, 0.92027871, 0.9260915 , 0.93180158,\n",
       "       0.93741271, 0.94292839, 0.94835184, 0.95368636, 0.95893491,\n",
       "       0.96410031, 0.96918522, 0.97419216, 0.97912354, 0.98398163,\n",
       "       0.9887686 , 0.99348651, 0.99813733, 1.00272295, 1.00724517,\n",
       "       1.0117057 , 1.01610616, 1.02044814, 1.02473314, 1.02896261,\n",
       "       1.03313794, 1.03726044, 1.04133139, 1.045352  , 1.04932346,\n",
       "       1.05324691, 1.05712345, 1.06095412, 1.06473992, 1.06848183,\n",
       "       1.07218081, 1.07583777, 1.07945359, 1.08302911, 1.08656515,\n",
       "       1.0900625 , 1.09352193, 1.09694418, 1.10032998, 1.10368003,\n",
       "       1.10699499, 1.1102755 , 1.11352223, 1.11673579, 1.11991678,\n",
       "       1.12306577, 1.12618333, 1.12927   , 1.13232629, 1.13535274,\n",
       "       1.13834987, 1.14131815, 1.14425807, 1.14717009, 1.15005466,\n",
       "       1.15291222, 1.15574319, 1.158548  , 1.16132703, 1.16408068,\n",
       "       1.16680932, 1.16951335, 1.17219315, 1.17484907, 1.17748146,\n",
       "       1.18009067, 1.18267702, 1.18524084, 1.18778245, 1.19030216,\n",
       "       1.19280026, 1.19527701, 1.19773274, 1.20016775, 1.20258231,\n",
       "       1.20497669, 1.20735116, 1.20970598, 1.21204141, 1.21435768,\n",
       "       1.21665505, 1.21893373, 1.22119397, 1.223436  , 1.22566004,\n",
       "       1.22786633, 1.23005508, 1.23222649, 1.23438078, 1.23651815,\n",
       "       1.2386388 , 1.2407429 , 1.24283065, 1.24490223, 1.24695785,\n",
       "       1.24899769, 1.25102192, 1.25303072, 1.25502427, 1.25700273,\n",
       "       1.25896626, 1.26091501, 1.26284915, 1.26476884, 1.26667423,\n",
       "       1.26856548, 1.27044274, 1.27230615, 1.27415586, 1.275992  ,\n",
       "       1.27781472, 1.27962412, 1.28142036, 1.28320358, 1.2849739 ,\n",
       "       1.28673146, 1.28847639, 1.2902088 , 1.29192882, 1.29363655,\n",
       "       1.29533212, 1.29701564, 1.29868724, 1.30034703, 1.30199511,\n",
       "       1.3036316 , 1.3052566 , 1.30687023, 1.30847256, 1.3100637 ,\n",
       "       1.31164377, 1.31321287, 1.31477109, 1.31631853, 1.31785529,\n",
       "       1.31938146, 1.32089713, 1.32240239, 1.32389733, 1.32538204,\n",
       "       1.32685661, 1.32832112, 1.32977567, 1.33122034, 1.33265519,\n",
       "       1.33408031, 1.33549579, 1.33690171, 1.33829815, 1.33968518,\n",
       "       1.34106288, 1.34243133, 1.3437906 , 1.34514076, 1.34648188,\n",
       "       1.34781404, 1.34913731, 1.35045175, 1.35175744, 1.35305443,\n",
       "       1.3543428 , 1.35562262, 1.35689395, 1.35815685, 1.3594114 ,\n",
       "       1.36065764, 1.36189566, 1.3631255 , 1.36434722, 1.36556089,\n",
       "       1.36676656, 1.3679643 , 1.36915416, 1.37033619, 1.37151046,\n",
       "       1.37267701, 1.37383591, 1.37498722, 1.37613097, 1.37726723,\n",
       "       1.37839606, 1.37951749, 1.38063159, 1.3817384 , 1.38283798,\n",
       "       1.38393037, 1.38501562, 1.38609378, 1.38716489, 1.38822901,\n",
       "       1.38928619, 1.39033647, 1.39137989, 1.39241651, 1.39344636,\n",
       "       1.39446949, 1.39548595, 1.39649577, 1.39749901, 1.3984957 ,\n",
       "       1.39948588, 1.4004696 , 1.4014469 , 1.40241781, 1.40338239,\n",
       "       1.40434067, 1.40529269, 1.40623849, 1.40717811, 1.40811158,\n",
       "       1.40903895, 1.40996025, 1.41087552, 1.41178479, 1.4126881 ,\n",
       "       1.41358548, 1.41447699, 1.41536264, 1.41624248, 1.41711654,\n",
       "       1.41798485, 1.41884746, 1.41970438, 1.42055566, 1.42140132,\n",
       "       1.42224141, 1.42307594, 1.42390496, 1.42472849, 1.42554658,\n",
       "       1.42635924, 1.42716652, 1.42796844, 1.42876504, 1.42955634,\n",
       "       1.43034237, 1.43112316, 1.43189875, 1.43266916, 1.43343442,\n",
       "       1.43419453, 1.43494955, 1.43569949, 1.43644441, 1.43718431,\n",
       "       1.43791922, 1.43864919, 1.43937422, 1.44009435, 1.4408096 ,\n",
       "       1.44152001, 1.44222559, 1.44292637, 1.44362237, 1.44431361,\n",
       "       1.44500014, 1.44568196, 1.4463591 , 1.44703159, 1.44769946,\n",
       "       1.44836272, 1.44902141, 1.44967554, 1.45032513, 1.45097022,\n",
       "       1.45161082, 1.45224695, 1.45287864, 1.45350591, 1.45412878,\n",
       "       1.45474728, 1.45536142, 1.45597123, 1.45657674, 1.45717795,\n",
       "       1.4577749 , 1.4583676 , 1.45895607, 1.45954033, 1.46012041,\n",
       "       1.46069633, 1.46126809, 1.46183574, 1.46239928, 1.46295873,\n",
       "       1.46351412, 1.46406546, 1.46461278, 1.46515608, 1.4656954 ,\n",
       "       1.46623074, 1.46676213, 1.46728959, 1.46781313, 1.46833278,\n",
       "       1.46884854, 1.46936045, 1.46986851, 1.47037275, 1.47087317,\n",
       "       1.47136981, 1.47186267, 1.47235178, 1.47283714, 1.47331878,\n",
       "       1.47379672, 1.47427097, 1.47474154, 1.47520846, 1.47567174,\n",
       "       1.47613139, 1.47658744, 1.47703989, 1.47748876, 1.47793408,\n",
       "       1.47837585, 1.47881409, 1.47924881, 1.47968004, 1.48010778,\n",
       "       1.48053205, 1.48095287, 1.48137025, 1.48178421, 1.48219476,\n",
       "       1.4826019 , 1.48300567, 1.48340607, 1.48380312, 1.48419683,\n",
       "       1.48458722, 1.48497429, 1.48535807, 1.48573857, 1.48611579,\n",
       "       1.48648976, 1.48686049, 1.48722799, 1.48759227, 1.48795335,\n",
       "       1.48831124, 1.48866596, 1.48901751, 1.48936591, 1.48971117,\n",
       "       1.49005331, 1.49039233, 1.49072825, 1.49106109, 1.49139085,\n",
       "       1.49171754, 1.49204119, 1.49236179, 1.49267937, 1.49299393,\n",
       "       1.4933055 , 1.49361406, 1.49391965, 1.49422227, 1.49452194,\n",
       "       1.49481866, 1.49511244, 1.4954033 , 1.49569126, 1.49597631,\n",
       "       1.49625847, 1.49653776, 1.49681418, 1.49708774, 1.49735846,\n",
       "       1.49762634, 1.4978914 , 1.49815365, 1.4984131 , 1.49866975,\n",
       "       1.49892362, 1.49917472, 1.49942306, 1.49966866, 1.49991151,\n",
       "       1.50015163, 1.50038903, 1.50062372, 1.50085571, 1.50108501,\n",
       "       1.50131163, 1.50153558, 1.50175687, 1.50197551, 1.50219151,\n",
       "       1.50240488, 1.50261562, 1.50282375, 1.50302928, 1.50323221,\n",
       "       1.50343256, 1.50363033, 1.50382554, 1.50401819, 1.50420829,\n",
       "       1.50439585, 1.50458088, 1.50476339, 1.50494339, 1.50512088,\n",
       "       1.50529588, 1.50546839, 1.50563842, 1.50580599, 1.50597109,\n",
       "       1.50613374, 1.50629395, 1.50645173, 1.50660707, 1.50676   ,\n",
       "       1.50691052, 1.50705863, 1.50720435, 1.50734769, 1.50748865,\n",
       "       1.50762724, 1.50776347, 1.50789734, 1.50802887, 1.50815806,\n",
       "       1.50828492, 1.50840946, 1.50853168, 1.50865159, 1.50876921,\n",
       "       1.50888454, 1.50899758, 1.50910834, 1.50921684, 1.50932307,\n",
       "       1.50942705, 1.50952879, 1.50962828, 1.50972554, 1.50982058,\n",
       "       1.5099134 , 1.51000401, 1.51009242, 1.51017863, 1.51026265,\n",
       "       1.51034448, 1.51042415, 1.51050164, 1.51057697, 1.51065015,\n",
       "       1.51072118, 1.51079008, 1.51085683, 1.51092146, 1.51098397,\n",
       "       1.51104437, 1.51110265, 1.51115884, 1.51121293, 1.51126494])"
      ]
     },
     "execution_count": 273,
     "metadata": {},
     "output_type": "execute_result"
    }
   ],
   "source": [
    "# using the converged policy function k_opt_TI, compute the optimal consumption with respect to capital c_opt_TI\n",
    "k_opt_TI = σ\n",
    "c_opt_TI = og_TI.f(k_opt_TI)+(1-og_TI.δ)*k_opt_TI-k_opt_TI\n",
    "c_opt_TI"
   ]
  },
  {
   "cell_type": "code",
   "execution_count": 274,
   "metadata": {},
   "outputs": [
    {
     "data": {
      "image/png": "[encoded data removed]",
      "text/plain": [
       "<Figure size 720x432 with 1 Axes>"
      ]
     },
     "metadata": {
      "needs_background": "light"
     },
     "output_type": "display_data"
    }
   ],
   "source": [
    "# plot figures for the converged policy function\n",
    "fig, ax = plt.subplots()\n",
    "ax.plot(og_TI.grid, k_opt_TI, 'b-', lw=2, alpha=0.6, label='converged policy function')\n",
    "ax.legend()\n",
    "plt.show()"
   ]
  },
  {
   "cell_type": "code",
   "execution_count": 275,
   "metadata": {},
   "outputs": [
    {
     "data": {
      "image/png": "[encoded data removed]",
      "text/plain": [
       "<Figure size 720x432 with 1 Axes>"
      ]
     },
     "metadata": {
      "needs_background": "light"
     },
     "output_type": "display_data"
    }
   ],
   "source": [
    "# plot figures for the consumption function\n",
    "fig, ax = plt.subplots()\n",
    "ax.plot(og_TI.grid, c_opt_TI, 'b-', lw=2, alpha=0.6, label='the consumption function')\n",
    "ax.legend()\n",
    "plt.show()"
   ]
  },
  {
   "cell_type": "code",
   "execution_count": 276,
   "metadata": {},
   "outputs": [
    {
     "data": {
      "text/plain": [
       "5.640537964584442"
      ]
     },
     "execution_count": 276,
     "metadata": {},
     "output_type": "execute_result"
    }
   ],
   "source": [
    "# compute the steady state capital 𝑘∗\n",
    "def f_prime_inv(k):\n",
    "    return (k/og_TI.α)**(1/(og_TI.α-1))\n",
    "\n",
    "k_ss = f_prime_inv(1/og_TI.β-1+og_TI.δ)\n",
    "k_ss"
   ]
  },
  {
   "cell_type": "code",
   "execution_count": 277,
   "metadata": {},
   "outputs": [
    {
     "data": {
      "image/png": "[encoded data removed]",
      "text/plain": [
       "<Figure size 720x432 with 1 Axes>"
      ]
     },
     "metadata": {
      "needs_background": "light"
     },
     "output_type": "display_data"
    }
   ],
   "source": [
    "# add a 45 degree line on the figure for the policy function to identify the steady state capital\n",
    "fig, ax = plt.subplots()\n",
    "ax.plot(og_TI.grid, k_opt_TI, 'b-', lw=2, alpha=0.6, label='converged policy function')\n",
    "ax.plot(og_TI.grid, og_TI.grid, label = '45 degree line')\n",
    "# put a mark at the coordinate of the steady state in the figure for the policy function\n",
    "ax.scatter(k_ss, k_ss, s=80)\n",
    "ax.legend()\n",
    "plt.show()"
   ]
  },
  {
   "cell_type": "markdown",
   "metadata": {},
   "source": [
    "### Q.2-5: Generate and plot the time-series of capital and consumption\n",
    "\n",
    "- Generate and plot `k_path_TI` and `c_path_TI` for $t=0, 1, \\cdots, 100$ with $k_0 = 1$.\n",
    "- You should get the identical figures for `k_path_TI` and `c_path_TI` as `k_path_VI` and `c_path_VI` in Q.1-6.\n",
    "- You don't need to write a fucntion to generate the time-series, but you can just use `Simulate_Time_Series` function that you defined for Q.1-5."
   ]
  },
  {
   "cell_type": "code",
   "execution_count": 278,
   "metadata": {},
   "outputs": [],
   "source": [
    "# your code here\n",
    "\n",
    "# Generate k_path_TI and c_path_TI\n",
    "og_TI = OptimalGrowth_TI(α=0.4, \n",
    "                β=0.96,\n",
    "                γ=2,\n",
    "                δ=0.1,\n",
    "                grid_max=10,\n",
    "                grid_size=500,\n",
    "                seed=1234)\n",
    "\n",
    "k_path_TI, c_path_TI = Simulate_Time_Series(T=101,k0=1,og=og_TI, k_opt=k_opt_TI, c_opt=c_opt_TI )"
   ]
  },
  {
   "cell_type": "code",
   "execution_count": 279,
   "metadata": {},
   "outputs": [
    {
     "data": {
      "image/png": "[encoded data removed]",
      "text/plain": [
       "<Figure size 720x432 with 1 Axes>"
      ]
     },
     "metadata": {
      "needs_background": "light"
     },
     "output_type": "display_data"
    }
   ],
   "source": [
    "# plot k_path_TI\n",
    "fig, ax = plt.subplots()\n",
    "ax.plot(k_path_VI, 'b-', lw=2, alpha=0.6, label='capital path_VI')\n",
    "ax.plot(k_path_TI, 'r-', lw=2, alpha=0.6, label='capital path_TI')\n",
    "ax.legend()\n",
    "plt.show()"
   ]
  },
  {
   "cell_type": "code",
   "execution_count": 280,
   "metadata": {},
   "outputs": [
    {
     "data": {
      "image/png": "[encoded data removed]",
      "text/plain": [
       "<Figure size 720x432 with 1 Axes>"
      ]
     },
     "metadata": {
      "needs_background": "light"
     },
     "output_type": "display_data"
    }
   ],
   "source": [
    "# plot c_path_TI\n",
    "fig, ax = plt.subplots()\n",
    "ax.plot(c_path_VI, 'b-', lw=2, alpha=0.6, label='consumption path_VI')\n",
    "ax.plot(c_path_TI, 'r-', lw=2, alpha=0.6, label='consumption path_TI')\n",
    "ax.legend()\n",
    "plt.show()"
   ]
  },
  {
   "cell_type": "markdown",
   "metadata": {},
   "source": [
    "## Qeustion 3: Computation with Endogenous Grid Method"
   ]
  },
  {
   "cell_type": "markdown",
   "metadata": {},
   "source": [
    "Now we will solve the above model with a different computation algorithm, endogenous grid method by Carroll. The Euler equation in [(6)](#euler_eq) can be manipulated as: \n",
    "\n",
    "<a id='euler_egm'></a>\n",
    "$$\n",
    "f(k) + (1-\\delta)k - k' = u'^{-1} \\left( \\beta u' \\left( f(k') + (1-\\delta)k' - k'' \\right) \\left[ f'(k') + 1 - \\delta \\right] \\right)\n",
    "$$\n",
    "\n",
    "Although it is possible to keep capital as a state variable, it is more tractable to use the total resource $y = f(k) + (1-\\delta)k$ as a state variable, which is disposed of $y = k' + c$. The policy function can be defined $\\sigma: y \\to k'$. According to this formulation, the Euler equation yields: \n",
    "\n",
    "$$\n",
    "y - k' = u'^{-1} \\left( \\beta u' \\left( y' - \\sigma(y') \\right) \\left[ f'(k') + 1 - \\delta \\right] \\right)\n",
    "$$\n",
    "\n",
    "In order to apply the EGM, we construct the fixed grid for $k'$ and the corresponding vector of $y$'s will be determined endogenously such that $y_i = \\sigma^{-1}(k'_i)$ for $i=0, 1, \\cdots, N-1$."
   ]
  },
  {
   "cell_type": "markdown",
   "metadata": {},
   "source": [
    "### Q.3-1: Define the new class for the EGM\n",
    "\n",
    "- class name: **OptimalGrowth_EGM**\n",
    "- the class inherits alla the parameters and functions from **OptimalGrowth_TI**.\n",
    "- it need an additonal function that defines the inverse of the marginal utility: `u_prime_inv` \n",
    "- collect the model parameters and declare their types in **opt_growth_data_EHM**.\n",
    "- jit-compile the class with `@jitclass`\n"
   ]
  },
  {
   "cell_type": "code",
   "execution_count": 281,
   "metadata": {},
   "outputs": [],
   "source": [
    "# your code here\n",
    "opt_growth_data_EGM = [\n",
    "    ('α', float64),          # Production parameter\n",
    "    ('β', float64),          # Discount factor\n",
    "    ('γ', float64),           # Preference parameter\n",
    "    ('δ', float64),           # capital depreciation rate\n",
    "    ('grid', float64[:]),    # Grid (array)\n",
    "]\n",
    "\n",
    "@jitclass(opt_growth_data_EGM)\n",
    "class OptimalGrowth_EGM:\n",
    "\n",
    "    def __init__(self,\n",
    "                α=0.4, \n",
    "                β=0.96,\n",
    "                γ=2,\n",
    "                δ=0.1,\n",
    "                grid_max=10,\n",
    "                grid_size=500,\n",
    "                seed=1234):\n",
    "\n",
    "        self.α, self.β, self.γ, self.δ = α, β, γ, δ\n",
    "\n",
    "        # Set up grid\n",
    "        self.grid = np.linspace(0.1, grid_max, grid_size)\n",
    "\n",
    "       \n",
    "    def f(self, k):\n",
    "        \"The production function\"\n",
    "        return k**self.α\n",
    "\n",
    "    def u(self, c):\n",
    "        \"The utility function\"\n",
    "        return c**(1 - self.γ) / (1 - self.γ)\n",
    "\n",
    "    def f_prime(self, k):\n",
    "        \"Derivative of f\"\n",
    "        return self.α * (k**(self.α - 1))\n",
    "\n",
    "\n",
    "    def u_prime(self, c):\n",
    "        \"Derivative of u\"\n",
    "        return c**(-self.γ)\n",
    "\n",
    "    def u_prime_inv(self, c):\n",
    "        \"Inverse of u'\"\n",
    "        return c**(-1/self.γ)"
   ]
  },
  {
   "cell_type": "markdown",
   "metadata": {},
   "source": [
    "### Q.3-2: Define the modified Coleman operator\n",
    "\n",
    "The modified Coleman operator $G$ is defined to reflect the endogenous grid method. \n",
    "\n",
    "- function head: **G($\\sigma_{inv}$, og_EGM)**\n",
    "- $\\sigma_{inv}$ contains the values of total resources $y_i$'s corresponding to the fixed grid $k'_i$'s in the current iteration.\n",
    "- `og_EGM` is the instance of the class OptimalGrowth_EGM to be initiated later.\n",
    "- update the endogenous grid vector $\\sigma_{inv-new}$.\n",
    "- jit-compile the function with @njit\n"
   ]
  },
  {
   "cell_type": "code",
   "execution_count": 282,
   "metadata": {},
   "outputs": [],
   "source": [
    "# your code here\n",
    "@njit\n",
    "def G(σ_inv, og_EGM):\n",
    "    \"\"\"\n",
    "    The Coleman operator using EGM\n",
    "    σ_inv(k') = y\n",
    "    \"\"\"\n",
    "\n",
    "    # Simplify names\n",
    "    f, β,δ = og_EGM.f, og_EGM.β, og_EGM.δ\n",
    "    f_prime, u_prime = og_EGM.f_prime, og_EGM.u_prime\n",
    "    u_prime_inv = og_EGM.u_prime_inv\n",
    "    grid = og_EGM.grid\n",
    "    \n",
    "    y = f(grid) + (1-δ)*grid\n",
    "    σ_inv_func = lambda x: interp(y, σ_inv, x)\n",
    "    σ_inv_new= np.empty_like(grid)\n",
    "\n",
    "    # Solve for updated consumption value\n",
    "    for i, k in enumerate(grid):\n",
    "        vals = u_prime(σ_inv_func(k)-k) * (f_prime(k)+1-δ)\n",
    "        σ_inv_new[i] = u_prime_inv(β * vals) + k\n",
    "\n",
    "    return σ_inv_new"
   ]
  },
  {
   "cell_type": "markdown",
   "metadata": {},
   "source": [
    "### Q.3-3: Implement the EGM\n",
    "\n",
    "Write a function that iterates the Coleman operator until the policy function converges. \n",
    "\n",
    "- function head: `solve_model_EGM(og_EGM, tol=1e-4, max_iter=1000, print_skip=5)`\n",
    "- the contents of the function are similar to those in the previous `solve_model_EGM` for the value function iteration algorithm."
   ]
  },
  {
   "cell_type": "code",
   "execution_count": 283,
   "metadata": {},
   "outputs": [],
   "source": [
    "# your code here\n",
    "def solve_model_EGM(og_EGM,    # Class with model information\n",
    "                          σ_inv,        # Initial condition\n",
    "                          tol=1e-4,\n",
    "                          max_iter=1000,\n",
    "                          print_skip=5,\n",
    "                          verbose=True):\n",
    "\n",
    "    # Set up loop\n",
    "    i = 0\n",
    "    error = tol + 1\n",
    "\n",
    "    while i < max_iter and error > tol:\n",
    "        σ_inv_new = G(σ_inv, og_EGM)\n",
    "        error = np.max(np.abs(σ_inv - σ_inv_new))\n",
    "        i += 1\n",
    "        if verbose and i % print_skip == 0:\n",
    "            print(f\"Error at iteration {i} is {error}.\")\n",
    "        σ_inv = σ_inv_new\n",
    "\n",
    "    if i == max_iter:\n",
    "        print(\"Failed to converge!\")\n",
    "\n",
    "    if verbose and i < max_iter:\n",
    "        print(f\"\\nConverged in {i} iterations.\")\n",
    "\n",
    "    return σ_inv_new"
   ]
  },
  {
   "cell_type": "markdown",
   "metadata": {},
   "source": [
    "### Q.3-4: Run the EGM\n",
    "\n",
    "- create an instance of the class OptimalGrowth `og_EGM` with the default parameter values defined in the class.\n",
    "- run `solve_model_EGM` to get the converged inverse policy function in the vector of which elements are $y_i=\\sigma^{-1}(k'_i)$.\n",
    "- in order to present the results compatible with the previous algorithms, we will convert the state variable back to capital so that the policy function is defined as $\\tilde{\\sigma}: k \\to k'$. In other words, we solve for the endogenous grid vector $k_i$'s such that $y_i = f(k_i) + (1-\\delta)k_i$. This is a nonlinear equation to be solved through a nonlinear equation solver sucj as `brentq`. Here, for some reason, `brentq` from `quantecon` raise a stupid error. You'd better use `scipy.optimize.brentq` instead of `quantecon.optimize.root_finding.brentq`.\n",
    "- using $\\tilde{\\sigma}$, compute the optimal consumption with respect to capital `c_opt_EGM`. \n",
    "- plot figures for the converged policy function and the consumption function.\n",
    "- compute the steady state capital $k^*$ such that $k^*=k'(k^*)$ which is the solution to $1 = \\beta \\left(f'(k^*) + 1- \\delta \\right)$. \n",
    "- add a 45 degree line on the figure for the policy function to identify the steady state capital.\n",
    "- put a mark at the coordinate of the steady state in the figure for the policy function."
   ]
  },
  {
   "cell_type": "code",
   "execution_count": 284,
   "metadata": {},
   "outputs": [
    {
     "name": "stdout",
     "output_type": "stream",
     "text": [
      "Error at iteration 5 is 1.2884470455358255.\n",
      "Error at iteration 10 is 0.0.\n",
      "\n",
      "Converged in 10 iterations.\n"
     ]
    }
   ],
   "source": [
    "# your code here\n",
    "\n",
    "# create an instance of the class OptimalGrowth og_EGM with the default parameter values defined in the class\n",
    "og_EGM = OptimalGrowth_EGM(α=0.4, \n",
    "                β=0.96,\n",
    "                γ=2,\n",
    "                δ=0.1,\n",
    "                grid_max=10,\n",
    "                grid_size=500,\n",
    "                seed=1234)\n",
    "σ_inv_init = np.copy(og_EGM.grid)\n",
    "σ_inv = solve_model_EGM(og_EGM, σ_inv_init)"
   ]
  },
  {
   "cell_type": "code",
   "execution_count": 285,
   "metadata": {},
   "outputs": [
    {
     "data": {
      "text/plain": [
       "array([0.09704388, 0.12726473, 0.15703603, 0.18614696, 0.21447485,\n",
       "       0.24195464, 0.26855923, 0.29428648, 0.31915035, 0.34317495,\n",
       "       0.36639044, 0.38883026, 0.41052929, 0.43152261, 0.45184469,\n",
       "       0.47152888, 0.49060714, 0.50910984, 0.52706569, 0.54450178,\n",
       "       0.55923436, 0.57080901, 0.58212088, 0.5927872 , 0.60323762,\n",
       "       0.61320653, 0.62290274, 0.63222738, 0.641266  , 0.64999471,\n",
       "       0.65845458, 0.66663654, 0.67458296, 0.68226488, 0.68975263,\n",
       "       0.69697756, 0.70405304, 0.71086004, 0.71753513, 0.72398718,\n",
       "       0.73028892, 0.73642475, 0.74238424, 0.7482258 , 0.75387571,\n",
       "       0.75941204, 0.76481172, 0.77006672, 0.77522012, 0.78023033,\n",
       "       0.78513174, 0.7899391 , 0.79460691, 0.79918801, 0.80367629,\n",
       "       0.80881161, 0.81436081, 0.82044683, 0.82643234, 0.8323963 ,\n",
       "       0.83836321, 0.84423211, 0.85007004, 0.8558831 , 0.86163684,\n",
       "       0.86735644, 0.87303727, 0.8786762 , 0.88428272, 0.88984753,\n",
       "       0.89537119, 0.9008707 , 0.90632683, 0.91174195, 0.91713541,\n",
       "       0.92248405, 0.9277992 , 0.93308778, 0.93832574, 0.94354877,\n",
       "       0.94873692, 0.95387311, 0.95900163, 0.96408839, 0.96913665,\n",
       "       0.97415051, 0.97914638, 0.98409759, 0.98901715, 0.99391517,\n",
       "       0.99877507, 1.00360332, 1.00840153, 1.01316889, 1.01789817,\n",
       "       1.02260718, 1.02728329, 1.03192356, 1.03652664, 1.04111741,\n",
       "       1.045671  , 1.05018947, 1.05460547, 1.05873156, 1.06261601,\n",
       "       1.06626493, 1.06979978, 1.07330273, 1.07675272, 1.08013687,\n",
       "       1.08349492, 1.08681696, 1.09009375, 1.09332372, 1.09651849,\n",
       "       1.0996723 , 1.10278663, 1.10586312, 1.10890286, 1.11190001,\n",
       "       1.11486114, 1.1177877 , 1.12067695, 1.12352816, 1.12634707,\n",
       "       1.12913102, 1.13187619, 1.13458926, 1.13727139, 1.13992016,\n",
       "       1.142533  , 1.14511962, 1.14766842, 1.15018472, 1.15267458,\n",
       "       1.15513822, 1.15756175, 1.15995792, 1.16232798, 1.16467108,\n",
       "       1.16698355, 1.16926607, 1.17152637, 1.17375828, 1.175958  ,\n",
       "       1.1781337 , 1.18028484, 1.18241052, 1.18451084, 1.18658656,\n",
       "       1.18863983, 1.1906638 , 1.19266424, 1.19464333, 1.1966022 ,\n",
       "       1.19853865, 1.20044505, 1.20233165, 1.2041984 , 1.20607441,\n",
       "       1.20802681, 1.2100733 , 1.21220283, 1.21440589, 1.21663404,\n",
       "       1.21884634, 1.22105334, 1.22326082, 1.22545815, 1.22764053,\n",
       "       1.22981229, 1.23197715, 1.23413653, 1.236285  , 1.23842527,\n",
       "       1.24055719, 1.2426804 , 1.24479461, 1.2469008 , 1.24900072,\n",
       "       1.25109184, 1.25317448, 1.25524969, 1.25731801, 1.25937764,\n",
       "       1.26142878, 1.26347308, 1.26551101, 1.26754022, 1.26956049,\n",
       "       1.27157412, 1.27358184, 1.27557961, 1.27757118, 1.27955691,\n",
       "       1.28153446, 1.28350222, 1.28546156, 1.28741842, 1.28936711,\n",
       "       1.29130685, 1.29323809, 1.29516255, 1.2970806 , 1.29899015,\n",
       "       1.30089076, 1.30278509, 1.30467408, 1.30655428, 1.30842661,\n",
       "       1.31029141, 1.31214863, 1.31399808, 1.31583908, 1.31767341,\n",
       "       1.31950145, 1.32132127, 1.32313213, 1.32493382, 1.32672756,\n",
       "       1.32851835, 1.33030009, 1.33207287, 1.33382518, 1.33553064,\n",
       "       1.33717266, 1.33874997, 1.34026768, 1.34173515, 1.34317455,\n",
       "       1.34460438, 1.34601901, 1.34741572, 1.34880003, 1.35017455,\n",
       "       1.35153821, 1.35288929, 1.35422677, 1.35555167, 1.35686525,\n",
       "       1.35816669, 1.3594562 , 1.36073407, 1.36200039, 1.36325475,\n",
       "       1.36449654, 1.36572699, 1.36694627, 1.36815407, 1.36935013,\n",
       "       1.37053493, 1.37170901, 1.37287211, 1.37402368, 1.37516382,\n",
       "       1.3762937 , 1.37741346, 1.37852174, 1.37961854, 1.38070589,\n",
       "       1.38178248, 1.38284785, 1.38390287, 1.38494858, 1.38598509,\n",
       "       1.38701078, 1.38802479, 1.38902944, 1.39002508, 1.39101152,\n",
       "       1.39198796, 1.39295397, 1.39391107, 1.3948596 , 1.39579838,\n",
       "       1.39672686, 1.39764636, 1.3985572 , 1.39945916, 1.40035223,\n",
       "       1.40123655, 1.40211238, 1.40297978, 1.40383803, 1.40468715,\n",
       "       1.40552822, 1.40636166, 1.40718753, 1.40800537, 1.40881255,\n",
       "       1.40961193, 1.41040407, 1.41119388, 1.41199351, 1.41281425,\n",
       "       1.41366068, 1.41453198, 1.41542449, 1.4163306 , 1.41723872,\n",
       "       1.41814159, 1.41904217, 1.41994163, 1.42083701, 1.42172687,\n",
       "       1.42261193, 1.4234932 , 1.42437133, 1.42524595, 1.42611643,\n",
       "       1.42698302, 1.42784583, 1.42870477, 1.42955981, 1.4304111 ,\n",
       "       1.43125898, 1.43210343, 1.43294401, 1.43378077, 1.43461392,\n",
       "       1.43544359, 1.43626957, 1.43709161, 1.43790994, 1.43872502,\n",
       "       1.43953674, 1.44034449, 1.4411482 , 1.44194858, 1.44274581,\n",
       "       1.44353904, 1.44432853, 1.44511474, 1.44589751, 1.44667634,\n",
       "       1.44745096, 1.44822178, 1.44898957, 1.44975422, 1.4505148 ,\n",
       "       1.45127124, 1.45202375, 1.45277276, 1.45351845, 1.45426003,\n",
       "       1.45499736, 1.45573124, 1.45646195, 1.45718875, 1.4579115 ,\n",
       "       1.4586303 , 1.45934521, 1.46005619, 1.46076315, 1.46146604,\n",
       "       1.46216516, 1.46286064, 1.46355218, 1.4642394 , 1.46492221,\n",
       "       1.46560072, 1.46627569, 1.46694742, 1.46761483, 1.46827698,\n",
       "       1.46893038, 1.46956886, 1.47018729, 1.47078382, 1.4713592 ,\n",
       "       1.47191557, 1.47245698, 1.47298956, 1.47351737, 1.47403891,\n",
       "       1.4745536 , 1.47506286, 1.47556756, 1.47606751, 1.47656227,\n",
       "       1.4770515 , 1.4775353 , 1.47801398, 1.47848762, 1.47895616,\n",
       "       1.47941964, 1.47987813, 1.48033163, 1.48078007, 1.48122338,\n",
       "       1.4816617 , 1.48209519, 1.48252385, 1.4829476 , 1.48336647,\n",
       "       1.4837806 , 1.48419011, 1.48459488, 1.48499476, 1.48538989,\n",
       "       1.48578057, 1.48616684, 1.48654839, 1.48692517, 1.48729761,\n",
       "       1.48766565, 1.48802907, 1.488388  , 1.4887427 , 1.48909334,\n",
       "       1.48943979, 1.48978173, 1.49011916, 1.49045249, 1.4907819 ,\n",
       "       1.49110733, 1.49142863, 1.49174572, 1.49205883, 1.4923682 ,\n",
       "       1.49267362, 1.4929749 , 1.49327219, 1.49356573, 1.49385556,\n",
       "       1.49414166, 1.49442406, 1.49470281, 1.49497798, 1.49524955,\n",
       "       1.49551742, 1.49578162, 1.49604236, 1.49629979, 1.49655396,\n",
       "       1.49680476, 1.49705189, 1.49729535, 1.4975357 , 1.49777361,\n",
       "       1.49801099, 1.49825089, 1.49849574, 1.49874637, 1.49900237,\n",
       "       1.49926263, 1.49952514, 1.49978679, 1.50004554, 1.50030212,\n",
       "       1.50055684, 1.50080905, 1.50105833, 1.50130475, 1.50154851,\n",
       "       1.50178982, 1.50202864, 1.50226487, 1.50249846, 1.50272943,\n",
       "       1.50295779, 1.50318352, 1.50340662, 1.50362712, 1.50384506,\n",
       "       1.50406042, 1.50427313, 1.50448319, 1.50469061, 1.50489541,\n",
       "       1.50509755, 1.50529699, 1.50549374, 1.50568785, 1.50587934,\n",
       "       1.50606811, 1.50625409, 1.50643735, 1.50661796, 1.50679585,\n",
       "       1.50697095, 1.5071433 , 1.50731293, 1.50747977, 1.50764374,\n",
       "       1.50780481, 1.50796307, 1.50811858, 1.50827129, 1.50842108,\n",
       "       1.50856791, 1.50871181, 1.50885281, 1.50899093, 1.50912606,\n",
       "       1.50925816, 1.50938731, 1.50951352, 1.50963674, 1.5097569 ])"
      ]
     },
     "execution_count": 285,
     "metadata": {},
     "output_type": "execute_result"
    }
   ],
   "source": [
    "from scipy.optimize import brentq\n",
    "\n",
    "# convert the state variable back to capital\n",
    "σ_tilda = np.empty_like(σ_inv)\n",
    "σ_inv_tilda = σ_inv\n",
    "for i in range(σ_inv.size):\n",
    "    σ_tilda[i] = brentq(lambda x : σ_inv[i] - og_EGM.f(x) - (1-og_EGM.δ) * x, 0, 500)\n",
    "\n",
    "# compute the optimal consumption with respect to capital c_opt_EGM\n",
    "k_opt_EGM = σ_tilda\n",
    "c_opt_EGM = og_EGM.f(k_opt_EGM)+(1-og_EGM.δ)*k_opt_EGM-k_opt_EGM\n",
    "c_opt_EGM"
   ]
  },
  {
   "cell_type": "code",
   "execution_count": 286,
   "metadata": {},
   "outputs": [
    {
     "data": {
      "image/png": "[encoded data removed]",
      "text/plain": [
       "<Figure size 720x432 with 1 Axes>"
      ]
     },
     "metadata": {
      "needs_background": "light"
     },
     "output_type": "display_data"
    }
   ],
   "source": [
    "# plot figures for the converged policy function\n",
    "fig, ax = plt.subplots()\n",
    "ax.plot(og_EGM.grid, k_opt_EGM, 'b-', lw=2, alpha=0.6, label='converged policy function')\n",
    "ax.legend()\n",
    "plt.show()"
   ]
  },
  {
   "cell_type": "code",
   "execution_count": 287,
   "metadata": {},
   "outputs": [
    {
     "data": {
      "image/png": "[encoded data removed]",
      "text/plain": [
       "<Figure size 720x432 with 1 Axes>"
      ]
     },
     "metadata": {
      "needs_background": "light"
     },
     "output_type": "display_data"
    }
   ],
   "source": [
    "# plot figures for the consumption function\n",
    "fig, ax = plt.subplots()\n",
    "ax.plot(og_EGM.grid, c_opt_EGM, 'b-', lw=2, alpha=0.6, label='the consumption function')\n",
    "ax.legend()\n",
    "plt.show()"
   ]
  },
  {
   "cell_type": "code",
   "execution_count": 288,
   "metadata": {},
   "outputs": [
    {
     "data": {
      "text/plain": [
       "5.640537964584442"
      ]
     },
     "execution_count": 288,
     "metadata": {},
     "output_type": "execute_result"
    }
   ],
   "source": [
    "# compute the steady state capital 𝑘∗\n",
    "def f_prime_inv(k):\n",
    "    return (k/og_EGM.α)**(1/(og_EGM.α-1))\n",
    "\n",
    "k_ss_EGM = f_prime_inv(1/og_EGM.β-1+og_EGM.δ)\n",
    "k_ss_EGM"
   ]
  },
  {
   "cell_type": "code",
   "execution_count": 289,
   "metadata": {},
   "outputs": [
    {
     "data": {
      "image/png": "[encoded data removed]",
      "text/plain": [
       "<Figure size 720x432 with 1 Axes>"
      ]
     },
     "metadata": {
      "needs_background": "light"
     },
     "output_type": "display_data"
    }
   ],
   "source": [
    "# add a 45 degree line on the figure for the policy function to identify the steady state capital\n",
    "fig, ax = plt.subplots()\n",
    "ax.plot(og_EGM.grid, k_opt_EGM, 'b-', lw=2, alpha=0.6, label='converged policy function')\n",
    "ax.plot(og_EGM.grid, og_EGM.grid, label = '45 degree line')\n",
    "# put a mark at the coordinate of the steady state in the figure for the policy function\n",
    "ax.scatter(k_ss_EGM, k_ss_EGM, s=80)\n",
    "ax.legend()\n",
    "plt.show()"
   ]
  },
  {
   "cell_type": "code",
   "execution_count": null,
   "metadata": {},
   "outputs": [],
   "source": []
  }
 ],
 "metadata": {
  "kernelspec": {
   "display_name": "Python 3 (ipykernel)",
   "language": "python",
   "name": "python3"
  },
  "language_info": {
   "codemirror_mode": {
    "name": "ipython",
    "version": 3
   },
   "file_extension": ".py",
   "mimetype": "text/x-python",
   "name": "python",
   "nbconvert_exporter": "python",
   "pygments_lexer": "ipython3",
   "version": "3.9.12"
  }
 },
 "nbformat": 4,
 "nbformat_minor": 4
}
