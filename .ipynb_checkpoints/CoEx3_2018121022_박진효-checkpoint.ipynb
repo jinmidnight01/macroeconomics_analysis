{
 "cells": [
  {
   "cell_type": "markdown",
   "metadata": {},
   "source": [
    "# Coding Exercise 3"
   ]
  },
  {
   "cell_type": "markdown",
   "metadata": {},
   "source": [
    "## Question 1: Optimal Consumption with Income Fluctuations"
   ]
  },
  {
   "cell_type": "markdown",
   "metadata": {},
   "source": [
    "### The model\n",
    "\n",
    "Consider a household that maximize\n",
    "\n",
    "$$\n",
    "\\max_{\\{c_t\\}_{t = 0}^\\infty } \\mathbb{E} \\sum_{t=0}^{\\infty} \\beta^t u(c_t),\n",
    "$$\n",
    "where $ \\beta \\in (0,1) $ is the discount factor and $ c_t $ is consumption at time $t$  \n",
    "\n",
    "subject to\n",
    "\n",
    "<a id='resource_constraint'></a>\n",
    "$$\n",
    "a_{t+1} \\leq  (1+r_t) a_t  + w_t h_t - c_t,\n",
    "\\quad c_t \\geq 0,\n",
    "\\quad a_t \\geq 0\n",
    "\\quad t = 0, 1, \\ldots \\tag{1}\n",
    "$$\n",
    "\n",
    "where\n",
    "\n",
    "- $ \\beta \\in (0,1) $ is the discount factor.\n",
    "- $ a_t $ is asset holdings at the beginning of time $ t $ with a borrowing constraint: $ a_t \\geq 0 $ $\\forall t$. \n",
    "- $ c_t $ is consumption, and $h_t$ is hours worked.\n",
    "- $ w_t $ is wages and $ r_t $ is the interest rate.\n",
    "\n",
    "Each period, the household is endowed with one unit of time. Due to the specification of utility function the household inelastically supply the whole hour as labor, i.e., $h_t=1$ for all $t$.\n",
    "\n",
    "The interest rate ($r_t$) and wages ($w_t$) are given, respectively, $r_t = r(Z_t)$ and $w_t = w(Z_t)$, where $Z_t$ follows a finite state Markov process with a state space $\\mathcal{Z}=\\{0,1\\}$ and a Markov matrix as below:\n",
    "\n",
    "$$\n",
    "P = \\left[\\begin{matrix}\n",
    "    0.9 & 0.1 \\\\\n",
    "    0.1 & 0.9\n",
    "    \\end{matrix}\\right]\n",
    "$$\n",
    "\n",
    "For simplicity of computation, We assume that $r(0)=0.025$, $r(1)=0.035$, $w(0)=0.8$ and $w(1)=1.2$.\n",
    "\n",
    "Notice that the resource constraint for the household in [(1)](#resource_constraint) is different from the one that we considered in the lecture. This represents the timing of events within a period as follows:\n",
    "\n",
    "1. In period $ t $, the household starts the period with asset holds $a_t$ which transmitted from the previous period.\n",
    "1. At the beginning of period $ t $, the household observes the realizations of the interest rate and wages, $r_t$ and $w_t$ which are determined accoding to the Markov processes.\n",
    "1. The household receives the gross capital income $(1+r_t) a_t$ and labor income $w_t h_t$. \n",
    "1. The household chooses her consumption $c_t$.\n",
    "1. Time shifts to $ t+1 $ and the process repeats.\n",
    "\n",
    "It is clear that the state for the household is a pair of $ (a,z) \\in \\mathsf S := \\mathbb R_+ \\times \\mathcal{Z} $. "
   ]
  },
  {
   "cell_type": "markdown",
   "metadata": {},
   "source": [
    "### The Euler Equation\n",
    "\n",
    "In period $t$, the total resources for the houshold is $(1+r_{t})a_t + w_t$ is disposed of into consumption $c_t$ and the next period asset $a_{t+1}$. Due to the borrowing constraint, $a_{t+1} \\ge 0$. Taking this into consideration, the optimal condition for the consumption choices can be summarized by the following Euler equation:\n",
    "\n",
    "<a id='euler_equation'></a>\n",
    "$$\n",
    "u'(c_t) = \\max \\left\\{\\beta\\, \\mathbb{E}_t \\left[ (1+r_{t+1}) u'(c_{t+1}) \\right], \\;  u'\\left((1+r_{t})a_t+w_t\\right)\n",
    "\\right\\} \\tag{2}\n",
    "$$\n",
    "\n",
    "There exists an *optimal consumption function* $ \\sigma^* \\colon \\mathsf S \\to \\mathbb R_+ $ that solves [(2)](#euler_equation) for all $ (a,z) \\in \\mathsf{S} $, i.e., \n",
    "\n",
    "<a id='EE'></a>\n",
    "$$\n",
    "\\begin{aligned}\n",
    "(u' \\circ \\sigma) (a, z) &= \\max \\left\\{\\beta\\, \\mathbb{E}_z \\left[ \\left(1+r(\\hat{z})\\right) (u' \\circ \\sigma) (\\hat{a},\\hat{z}) \\right], \\;  u'\\left((1+r(z))a+w[z]\\right) \\right\\}\n",
    "\\\\\n",
    "&= \\max \\left\\{\\beta\\, \\mathbb{E}_z \\left[ \\left(1+r(\\hat{z})\\right) (u' \\circ \\sigma) \\left((1+r(z))a+w[z]-\\sigma(a,z),\\hat{z} \\right) \\right], \\;  u'\\left((1+r(z))a+w[z]\\right) \\right\\}\n",
    "\\end{aligned}\n",
    "\\tag{3}\n",
    "$$\n"
   ]
  },
  {
   "cell_type": "markdown",
   "metadata": {},
   "source": [
    "Let's solve for the optimal policy for consumption through the **time iteration** method."
   ]
  },
  {
   "cell_type": "markdown",
   "metadata": {},
   "source": [
    "### Q.1-0: Import necessary packages."
   ]
  },
  {
   "cell_type": "markdown",
   "metadata": {},
   "source": [
    "First, import the following external libraries:\n",
    "\n",
    "1. `MarkoovChain` from `quantecon` to handle finite state Markov process\n",
    "1. `brentq` from `quantecon` to solve for the optimal policy at each state. \n",
    "1. `interp` from `interpolation` to evaluate the optimal policy an off-grid point.\n",
    "1. `numba` package to jit-compile class and functions.\n",
    "1. `pyplot` from `matplotlib` to present results graphically."
   ]
  },
  {
   "cell_type": "code",
   "execution_count": null,
   "metadata": {},
   "outputs": [],
   "source": [
    "# your code here\n",
    "\n"
   ]
  },
  {
   "cell_type": "markdown",
   "metadata": {},
   "source": [
    "### Q.1-1: Define the class for the model economy\n",
    "\n",
    "Write a class **IFP** that specifies the following.\n",
    "\n",
    "- discount factor: $\\beta = 0.965$\n",
    "- CRRA parameter: $\\gamma=2$\n",
    "- interest rate values: as specified above\n",
    "- wage values: as specified above\n",
    "- Markov matrix: P as specified above\n",
    "- marginal uility function: $c^{-\\gamma}$\n",
    "- asset grid vector: $a \\in [0, 20]$ with grid_size = 200\n",
    "- collect the model parameters and declare their types in **ifp_data**\n",
    "- jit-compile the class with `@jitclass`\n",
    "\n",
    "Assume that the condition for convergence, $\\beta E[1+r(\\hat{z})] < 1$ is satisfied with the above values for `r` and `beta`."
   ]
  },
  {
   "cell_type": "code",
   "execution_count": null,
   "metadata": {},
   "outputs": [],
   "source": [
    "# your code here\n",
    "\n"
   ]
  },
  {
   "cell_type": "markdown",
   "metadata": {},
   "source": [
    "### Q.1-2: Define the Coleman Operator\n",
    "\n",
    "Write a function that defines the Coleman operator $K$ that updates the optimal policy function $\\sigma$ by solving the (nonlinear) Equler equation for $c$ for all $(a,z) \\in \\mathsf{S}$. \n",
    "\n",
    "<a id='EE_sigma'></a>\n",
    "$$\n",
    "u'(c) = \\max \\left\\{\\beta\\, \\mathbb{E}_z \\left[ \\left(1+r(\\hat{z})\\right) (u' \\circ \\sigma) \\left((1+r(z))a+w[z]-c,\\hat{z} \\right) \\right], \\;  u'\\left((1+r(z))a+w[z]\\right) \\right\\}\n",
    "\\tag{4}\n",
    "$$\n",
    "\n",
    "- function head: **K($\\sigma$, ifp)**\n",
    "- $\\sigma$ is a matrix of which elements are the optimal consumption $c^*$ for state $(a,z) \\in \\mathsf S$ in the current iteration.\n",
    "- `ifp` is the instance of the class IFP to be initiated later.\n",
    "- solve the nonlinear euqation for $c^*$ for each pair of $(a,z)$ using `brentq` function. You may refer to [this site](https://quanteconpy.readthedocs.io/en/latest/optimize/root_finding.html) to find the usage of `brentq`.\n",
    "- update the policy value function $\\sigma_{new}$.\n",
    "- jit-compile the function with @njit"
   ]
  },
  {
   "cell_type": "code",
   "execution_count": null,
   "metadata": {},
   "outputs": [],
   "source": [
    "# your code here\n",
    "\n"
   ]
  },
  {
   "cell_type": "markdown",
   "metadata": {},
   "source": [
    "### Q.1-3: Implement the Time Iteration\n",
    "\n",
    "\n",
    "Write a function that iterates the Coleman operator until the policy function converges. \n",
    "\n",
    "- function head: `solve_model_(ifp_in, $\\sigma$, tol=1e-4, max_iter=1000, print_skip=10)`\n",
    "- the arguements are analogous to those in the lecture.\n",
    "- while iterating, the function should show the progress every 10 iteration.\n",
    "- the function returns the converged policy function."
   ]
  },
  {
   "cell_type": "code",
   "execution_count": null,
   "metadata": {},
   "outputs": [],
   "source": [
    "# your code here\n",
    "\n"
   ]
  },
  {
   "cell_type": "markdown",
   "metadata": {},
   "source": [
    "### Q.1-4: Run the Time Iteration\n",
    "\n",
    "- create an instance of the class IFP `ifp` with the default parameter values defined in the class.\n",
    "- initialize the optimal consumption matrix $\\sigma$ with the asset grid vector for all $z$.\n",
    "- run `solve_model` and save the converged comsumption policy in a matrix *c_opt*.\n",
    "- compute the optimal asset holdings in the next period, $\\hat{a}$, using *c_opt* and the resource constraint and save them in a matrix *ap_opt*.\n",
    "- plot *c_opt* for each $z$ against assets ($a$).\n",
    "- plot *ap_opt* for each $z$ against assets ($a$).\n"
   ]
  },
  {
   "cell_type": "code",
   "execution_count": null,
   "metadata": {},
   "outputs": [],
   "source": [
    "# your code here\n",
    "\n"
   ]
  },
  {
   "cell_type": "markdown",
   "metadata": {},
   "source": [
    "### Q.1-5: Simulate the time-series of asset holdings\n",
    "\n",
    "Suppose that the household is endowed with $a_0$ at the very first period of her life. Each period, she chooses consumption and the next period assets according to the optimal policy function computed above. Write a function that simulates the asset holdings and consumption of the household over 500,000 periods.\n",
    "\n",
    "- function head: Simulate_Time_Series(ifp, T, seed=1234)\n",
    "    - `ifp`: instance of the class IFP\n",
    "    - `c_opt`: optimal consumption function computed above\n",
    "    - `T`: length of time-series, set to 500,000\n",
    "    - `seed`: seed for random number generator, set to 1234\n",
    "- need to interpolate policy functions\n",
    "- use `MarkovChain` to generate a series of random numbers from a Markov process with Markov matrix P \n",
    "- compute and plot the time-series $\\{a_t, c_t\\}$ for $t=0, 1, \\cdots T$.\n"
   ]
  },
  {
   "cell_type": "code",
   "execution_count": null,
   "metadata": {},
   "outputs": [],
   "source": [
    "# your code here\n",
    "\n"
   ]
  },
  {
   "cell_type": "markdown",
   "metadata": {},
   "source": [
    "### Q.1-6: Plot the time-series of assets and consumption\n",
    "\n",
    "- Generate time-series for asset and consumption.\n",
    "- Plot histograms of assets and consumption assuming that the generated time-series represent the cross-sectional distributions of assets and consumption.\n",
    "- Plot the Lorenz curve and compute the Gini coefficients for assets and consumption.\n"
   ]
  },
  {
   "cell_type": "code",
   "execution_count": null,
   "metadata": {},
   "outputs": [],
   "source": [
    "# your code here\n",
    "\n"
   ]
  },
  {
   "cell_type": "markdown",
   "metadata": {},
   "source": [
    "## Question 2: Lake Model of Labor Markets"
   ]
  },
  {
   "cell_type": "markdown",
   "metadata": {
    "id": "ku-uDJtNDLI5"
   },
   "source": [
    "### The Model\n",
    "\n",
    "The economy is inhabited by a very large number of ex-ante identical workers. Let's normalize the total number of workers (population) to unity. The workers live forever, spending their lives moving across three labor market states: employment ($E$), unemployment ($U$) and out of labor force ($O$). There are six possible transitions across three states over the course of two consecutive periods.\n",
    "\n",
    "1. An employed worker in period $t$ becomes unemployed in the next period with probability $\\alpha$.\n",
    "1. An employed worker in period $t$ goes out of labor force in the next period with probability $\\delta$.\n",
    "1. An unemployed worker in period $t$ become employed in the next period with probability $\\lambda$.\n",
    "1. An unemployed worker in period $t$ goes out of labor firce in the next period with probability $\\kappa$.\n",
    "1. A worker out of labor force in period $t$ becomes employed in the next period with probability $\\eta$.\n",
    "1. A worker out of labor force in period $t$ becomes unemployed in the next period with probability $\\chi$.\n",
    "\n",
    "\n",
    "### Laws of Motion for Stock Variables\n",
    "\n",
    "Labor market stock variables evolve over time according to the following laws of motion. \n",
    "\n",
    "1. Employment:\n",
    "$$\n",
    "E_{t+1} = (1-\\alpha-\\delta) E_t + \\lambda U_t + \\eta O_t\n",
    "$$\n",
    "\n",
    "1. Unemployment:\n",
    "$$\n",
    "U_{t+1} = \\alpha E_t + (1-\\lambda-\\kappa) U_t + \\chi O_t  \n",
    "$$\n",
    "\n",
    "1. Out of Labor Force:\n",
    "$$\n",
    "O_{t+1} = \\delta E_t + \\kappa U_t + (1-\\eta-\\chi) O_t\n",
    "$$\n",
    "\n",
    "\n",
    "Let $ X := \\left(\\begin{matrix} E & U & O \\end{matrix}\\right) $. Then the law of motion for $ X $ is $X_{t+1} = X_t P$, where \n",
    "\n",
    "$$\n",
    "P = \\left[\\begin{matrix}\n",
    "     1-\\alpha-\\delta & \\alpha & \\delta \\\\\n",
    "     \\lambda & 1-\\lambda-\\kappa & \\kappa \\\\\n",
    "     \\eta & \\chi & 1-\\eta-\\chi \\\\\n",
    "    \\end{matrix}\\right]\n",
    "$$\n"
   ]
  },
  {
   "cell_type": "markdown",
   "metadata": {},
   "source": [
    "### Q.2-1: Define the class for the lake model of labor market\n",
    "\n",
    "Write a class **Lake** that specifies the following. In the class definition, make the Markov matrix to immediately reflect changes in individual transition probabilities without re-creating the instance of the class. For this, Use descriptors and decorators such as `@property` as we did in the lecture.\n",
    "\n",
    "- Transition probabilities\n",
    "    - from E to U: $\\alpha = 0.0147$\n",
    "    - from E to O: $\\delta = 0.0313$\n",
    "    - from U to E: $\\lambda = 0.2774$\n",
    "    - from U to O: $\\kappa = 0.2280$\n",
    "    - from O to E: $\\eta = 0.0466$\n",
    "    - from O to U: $\\chi = 0.0245$\n",
    "- function `__init__`: sets default values for transition probabilities and generate a Markov matrix `P` by calling `construct_P`\n",
    "- function `construct_P`: construct a Markov matrix `_P`\n",
    "- function `construct_mc`: construct a Markov Chain object `_mc` with `P`\n",
    "- using @property and @x.setter decorators, make inidividual transition probabilities and the Markov matrix to be changed.\n",
    "- function `steady_state`: computes the steady state of the labor market\n",
    "- function `simulate_stock_path`: simulate a time-series of labor market stock variables\n"
   ]
  },
  {
   "cell_type": "code",
   "execution_count": null,
   "metadata": {},
   "outputs": [],
   "source": [
    "# your code here\n",
    "\n"
   ]
  },
  {
   "cell_type": "markdown",
   "metadata": {},
   "source": [
    "### Q.2-2: Compute the stationary distribution\n",
    "\n",
    "We have learned from the lecture 11 (Finite Markov Chain) that if the Markov matrix is both irreducible and aperiodic, then there exist a unique stationary distribution of states. \n",
    "\n",
    "- create an instance of the class, `LM`."
   ]
  },
  {
   "cell_type": "code",
   "execution_count": null,
   "metadata": {},
   "outputs": [],
   "source": [
    "# your code here\n"
   ]
  },
  {
   "cell_type": "markdown",
   "metadata": {},
   "source": [
    "- check if the labor market is irreducible using a method in `quantecon.MarkovChain`"
   ]
  },
  {
   "cell_type": "code",
   "execution_count": null,
   "metadata": {},
   "outputs": [],
   "source": [
    "# your code here\n"
   ]
  },
  {
   "cell_type": "markdown",
   "metadata": {},
   "source": [
    "- check if the labor market is aperiodic using a method in `quantecon.MarkovChain`"
   ]
  },
  {
   "cell_type": "code",
   "execution_count": null,
   "metadata": {},
   "outputs": [],
   "source": [
    "# your code here\n"
   ]
  },
  {
   "cell_type": "markdown",
   "metadata": {},
   "source": [
    "- compute the stationary distribution of labor market states using the function `stationary_distgribution` included in `quantecon.MarkovChain`."
   ]
  },
  {
   "cell_type": "code",
   "execution_count": null,
   "metadata": {},
   "outputs": [],
   "source": [
    "# your code here\n"
   ]
  },
  {
   "cell_type": "markdown",
   "metadata": {},
   "source": [
    "- compute the stationary distribution of labor market states using the function `steady_state` included in the class `Lake`."
   ]
  },
  {
   "cell_type": "code",
   "execution_count": null,
   "metadata": {},
   "outputs": [],
   "source": [
    "# your code here\n",
    "\n"
   ]
  },
  {
   "cell_type": "markdown",
   "metadata": {},
   "source": [
    "### Q.2-3: Simulate Labor Market Stocks\n",
    "\n",
    "Let's simulate labor market stock variables for 50 periods, `T=50`, according to the system that we constructed with the class `Lake`.\n",
    "\n",
    "- set initial values for labor market stocks: `X_0`\n",
    "- compute the steady state of the labor market: `xbar`\n",
    "- simulate labor market stocks with the function `simulate_stock_path`.\n",
    "- plot the simulated labor market stock variables with their steady states.\n"
   ]
  },
  {
   "cell_type": "code",
   "execution_count": null,
   "metadata": {},
   "outputs": [],
   "source": [
    "# your code here\n",
    "\n"
   ]
  },
  {
   "cell_type": "markdown",
   "metadata": {},
   "source": [
    "### Q.2-4: An Invididual Worker's Turnover across Labor Market States\n",
    "\n",
    "Let's simulate an individual worker's turnovers (transitions) across the labor market stock variables for $T=50,000$. Write codes for simulating and plotting the individual worker's turnovers across labor market states over time.\n",
    "\n",
    "- simuate individual worker's state using Markov chain: `s_path`\n",
    "- from `s_path`, construct a time series `e_path` that consists of 0 or 1 where 1 represents employment\n",
    "- from `s_path`, construct a time series `u_path` that consists of 0 or 1 where 1 represents unemployment\n",
    "- from `s_path`, construct a time series `o_path` that consists of 0 or 1 where 1 represents out of labor force\n",
    "- using `e_path` generate a time series, `s_bar_e` of percentage of time employed until time $t$\n",
    "- using `u_path` generate a time series, `s_bar_u` of percentage of time unemployed until time $t$\n",
    "- using `o_path` generate a time series, `s_bar_o` of percentage of time out of labor force until time $t$\n",
    "- plot `s_bar_e`, `s_bar_u`, `s_bar_o`"
   ]
  },
  {
   "cell_type": "code",
   "execution_count": null,
   "metadata": {},
   "outputs": [],
   "source": [
    "# your code here\n",
    "\n"
   ]
  },
  {
   "cell_type": "markdown",
   "metadata": {},
   "source": [
    "### Q.2-5: Effects of Changes in Transition Probabilities on Labor Market Stocks\n",
    "\n",
    "Let's simulate the labor market stock variables for $T=50$ again. Now, suppose that the following changes in transition probabilites will take place in period $\\hat{T} = 20$: $\\hat{\\alpha} = 0.03$ and $\\hat{\\delta} = 0.05$. In other words, exit probabilities from employment to either unemployment or out of labor force will increase. Write codes for simulating and plotting the labor market stocks as you did in Q.2-3.\n"
   ]
  },
  {
   "cell_type": "code",
   "execution_count": null,
   "metadata": {},
   "outputs": [],
   "source": [
    "# your code here\n",
    "\n"
   ]
  },
  {
   "cell_type": "markdown",
   "metadata": {},
   "source": [
    "### Q.2-6: Effects of Changes in Transition Probabilities on Individual Worker's Turnovers in the Labor Market\n",
    "\n",
    "Let's simulate an individual worker's turnovers in the labor market stock variables for $T=50,000$ again. Now, suppose that the following changes in transition probabilites will take place in period $\\hat{T} = 20,000$: $\\hat{\\alpha} = 0.03$ and $\\hat{\\delta} = 0.05$. Write codes for simulating and plotting the individual worker's turnovers across labor market states over time as you did in Q.2-4.\n"
   ]
  },
  {
   "cell_type": "code",
   "execution_count": null,
   "metadata": {},
   "outputs": [],
   "source": [
    "# your code here\n",
    "\n"
   ]
  }
 ],
 "metadata": {
  "kernelspec": {
   "display_name": "Python 3",
   "language": "python",
   "name": "python3"
  },
  "language_info": {
   "codemirror_mode": {
    "name": "ipython",
    "version": 3
   },
   "file_extension": ".py",
   "mimetype": "text/x-python",
   "name": "python",
   "nbconvert_exporter": "python",
   "pygments_lexer": "ipython3",
   "version": "3.8.5"
  }
 },
 "nbformat": 4,
 "nbformat_minor": 4
}
