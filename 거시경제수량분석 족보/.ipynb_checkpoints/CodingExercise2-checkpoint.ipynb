{
 "cells": [
  {
   "cell_type": "markdown",
   "metadata": {},
   "source": [
    "# Coding Exercise 2"
   ]
  },
  {
   "cell_type": "markdown",
   "metadata": {},
   "source": [
    "## The model\n",
    "\n",
    "- There is only one agent who governs all resource allocations in the economy. She produces a (single) good through a production function:\n",
    "\n",
    "    $$\n",
    "    y_{t} = f(k_{t}) \\tag{1}\n",
    "    $$\n",
    "\n",
    "- The good can be used for consumption and investment. \n",
    "\n",
    "- In this exercise, we introduce a partial capital depreciation, i.e. capital depreciates at the rate $0<\\delta<1$ each period. Hence the resource constraint for the agent is:\n",
    "\n",
    "    <a id='constraint'></a>\n",
    "    $$\n",
    "    k_{t+1} + c_t = y_t + (1-\\delta)k_t \\tag{2}\n",
    "    $$\n",
    "\n",
    "- The agent wants to maximize\n",
    "\n",
    "    <a id='lifetime_utility'></a>\n",
    "    $$\n",
    "    \\mathbb E \\left[ \\sum_{t = 0}^{\\infty} \\beta^t u(c_t) \\right] \\tag{3}\n",
    "    $$\n",
    "    subject to [(2)](#constraint), where $ \\beta \\in (0, 1) $ is a discount factor. \n",
    "   \n",
    "- The model is almost identical to Cass-Koopmans planning model. In order to solve this model, we will apply value function iteration algorithm. Hence, we first reformulate the maximization problem into a Bellman equation. "
   ]
  },
  {
   "cell_type": "markdown",
   "metadata": {},
   "source": [
    "### The Bellman Equation\n",
    "\n",
    "We can write the value function for the agent's utility maximization problem in the form of **Bellman equation**. In this exercise we will use capital ($k$) as state variable instead of output ($y$). The value function is defined as follows:\n",
    "\n",
    "<a id='value_fn'></a>\n",
    "$$\n",
    "v(k) = \\max_{0 \\leq c \\leq y + (1-\\delta)k}\n",
    "    \\left\\{ u(c) + \\beta v(k') \\right\\} \\tag{4}\n",
    "$$\n",
    "subject to \n",
    "$$\n",
    "k' = f(k) + (1-\\delta)k - c \n",
    "$$\n",
    "\n",
    "This formulation takes consumption ($c$) as control variable. For the computation below we will use the next period capital ($k'$) as control variable. Then [(4)](#value_fn) can be rewritten as follows:\n",
    "\n",
    "<a id='Bellman_eq'></a>\n",
    "$$\n",
    "v(k) = \\max_{0 \\leq k' \\leq y + (1-\\delta)k}\n",
    "    \\left\\{ u\\left(f(k) + (1-\\delta)k - k'\\right) + \\beta v(k') \\right\\} \\tag{5}\n",
    "$$\n",
    "\n",
    "Essentially we converted the constrained maximization problem in [(4)](#value_fn) into the unconstrained maximization problem in [(5)](#Bellman_eq)."
   ]
  },
  {
   "cell_type": "markdown",
   "metadata": {},
   "source": [
    "## Question 1: Computation with Value Function Iteration"
   ]
  },
  {
   "cell_type": "markdown",
   "metadata": {},
   "source": [
    "Let's solve for the value function and the optimal policy through the value function iteration method. The algorith is similar to that in the lecture. But the algorithm should be much simpler since no uncertainty is involved in this exercise. No need to compute the Monte Carlo integration here. Due to partial capital depreciation, the value function and the optimal policy function do not allow for analytic form in this exercise.\n",
    "\n",
    "1. jit-compile codes using `numba` package.\n",
    "1. `brent_max` will be used to find the optimal policy for each state. \n",
    "1. `interpolation.interp` will be used to evaluate the value function at an off-grid point."
   ]
  },
  {
   "cell_type": "markdown",
   "metadata": {},
   "source": [
    "### Q.1-0: Import necessary packages."
   ]
  },
  {
   "cell_type": "code",
   "execution_count": 35,
   "metadata": {},
   "outputs": [
    {
     "name": "stdout",
     "output_type": "stream",
     "text": [
      "Collecting package metadata (current_repodata.json): ...working... done\n",
      "Solving environment: ...working... done\n",
      "\n",
      "# All requested packages already installed.\n",
      "\n",
      "Requirement already satisfied: interpolation in c:\\users\\jaeyo\\anaconda3\\lib\\site-packages (2.2.1)\n",
      "Requirement already satisfied: numba>=0.47 in c:\\users\\jaeyo\\anaconda3\\lib\\site-packages (from interpolation) (0.54.1)\n",
      "Requirement already satisfied: scipy>=1.4.1 in c:\\users\\jaeyo\\anaconda3\\lib\\site-packages (from interpolation) (1.7.1)\n",
      "Requirement already satisfied: numpy>=1.18.1 in c:\\users\\jaeyo\\anaconda3\\lib\\site-packages (from interpolation) (1.20.3)\n",
      "Requirement already satisfied: tempita>=0.5.2 in c:\\users\\jaeyo\\anaconda3\\lib\\site-packages (from interpolation) (0.5.2)\n",
      "Requirement already satisfied: setuptools in c:\\users\\jaeyo\\anaconda3\\lib\\site-packages (from numba>=0.47->interpolation) (58.0.4)\n",
      "Requirement already satisfied: llvmlite<0.38,>=0.37.0rc1 in c:\\users\\jaeyo\\anaconda3\\lib\\site-packages (from numba>=0.47->interpolation) (0.37.0)\n"
     ]
    },
    {
     "name": "stderr",
     "output_type": "stream",
     "text": [
      "ERROR: Could not find a version that satisfies the requirement numba.experimental (from versions: none)\n",
      "ERROR: No matching distribution found for numba.experimental\n"
     ]
    }
   ],
   "source": [
    "# your code here\n",
    "# import all packages that you need\n",
    "!conda install -y quantecon\n",
    "!pip install interpolation\n",
    "!pip install numba.experimental"
   ]
  },
  {
   "cell_type": "code",
   "execution_count": 36,
   "metadata": {},
   "outputs": [],
   "source": [
    "from interpolation import interp\n",
    "from numba import jit, njit, prange, float64, int32\n",
    "from numba.experimental import jitclass\n",
    "from quantecon.optimize.scalar_maximization import brent_max\n",
    "import numpy as np\n",
    "import matplotlib.pyplot as plt\n",
    "plt.rcParams['figure.figsize'] = (9,6)"
   ]
  },
  {
   "cell_type": "markdown",
   "metadata": {},
   "source": [
    "### Q.1-1: Define the class for the model economy\n",
    "\n",
    "Write a class **OptimalGrowth** that specifies the following.\n",
    "\n",
    "- discount factor: $\\beta = 0.96$\n",
    "- uility function: $\\frac{c^{1-\\gamma}}{1-\\gamma}$ with $\\gamma=2$\n",
    "- production function: $f(k) = k^\\alpha$ with $\\alpha = 0.4$\n",
    "- capital depreciation rate: $\\delta=0.1$\n",
    "- grid vector for the state variable: $k \\in [0.1, 10]$ with grid_size = 500\n",
    "- collect the model parameters and declare their types in **opt_growth_data**\n",
    "- jit-compile the class with `@jitclass`\n",
    "\n",
    "The contents of the class should be very similar to those from the lecture."
   ]
  },
  {
   "cell_type": "code",
   "execution_count": 37,
   "metadata": {},
   "outputs": [],
   "source": [
    "# your code here\n",
    "opt_growth_data = [\n",
    "    ('α', float64),          # Production parameter\n",
    "    ('β', float64),          # Discount factor\n",
    "    ('γ', float64),           # Preference parameter\n",
    "    ('δ', float64),           # capital depreciation rate\n",
    "    ('grid', float64[:]),    # Grid (array)\n",
    "]\n",
    "\n",
    "@jitclass(opt_growth_data)\n",
    "class OptimalGrowth:\n",
    "\n",
    "    def __init__(self,\n",
    "                α=0.4, \n",
    "                β=0.96,\n",
    "                γ=2,\n",
    "                δ=0.1,\n",
    "                grid_max=10,\n",
    "                grid_size=500,\n",
    "                seed=1234):\n",
    "\n",
    "        self.α, self.β, self.γ, self.δ = α, β, γ, δ\n",
    "\n",
    "        # Set up grid\n",
    "        self.grid = np.linspace(0.1, grid_max, grid_size)\n",
    "\n",
    "       \n",
    "    def f(self, k):\n",
    "        \"The production function\"\n",
    "        return k**self.α\n",
    "\n",
    "    def u(self, c):\n",
    "        \"The utility function\"\n",
    "        return c**(1 - self.γ) / (1 - self.γ)\n",
    "    \n",
    "\n",
    "    def objective(self, nk, k, v_array):\n",
    "        \"\"\"\n",
    "        Right hand side of the Bellman equation.\n",
    "\n",
    "         * nk is next period capital\n",
    "         * k is capital\n",
    "         * og is an instance of OptimalGrowth\n",
    "         * v_array represents a guess of the value function on the grid\n",
    "\n",
    "        \"\"\"\n",
    "\n",
    "        u, f,β,δ = self.u, self.f, self.β, self.δ\n",
    "\n",
    "        v = lambda x: interp(self.grid, v_array, x)\n",
    "\n",
    "        return u(f(k)+(1-δ)*k-nk) + β * v(nk)    \n",
    "\n"
   ]
  },
  {
   "cell_type": "markdown",
   "metadata": {},
   "source": [
    "### Q.1-2: Define the Bellman Operator\n",
    "\n",
    "Write a function that defines the right-hand side of the Bellman equation.\n",
    "\n",
    "- function head: **T(v, og_VI)** \n",
    "- `v` is the vector of value function in the current iteration.\n",
    "- `og_VI` is the instance of the class `OptimalGrowth_VI` to be initiated later.\n",
    "- solve the maximization problem using `brent_max` function. You may refer to [this site](https://quanteconpy.readthedocs.io/en/latest/optimize/scalar_maximization.html) to find the usage of `brent_max`.\n",
    "- use `brent_max` function with caution in setting the range of $k'$ to make sure consumption nonnegative.\n",
    "- update the value function `v_new` and the optimal policy function `v_greedy`.\n",
    "- jit-compile the function with `@njit`"
   ]
  },
  {
   "cell_type": "code",
   "execution_count": 38,
   "metadata": {},
   "outputs": [],
   "source": [
    "# your code here\n",
    "@njit\n",
    "def T(v, og_VI):\n",
    "    v_new = np.empty_like(v)\n",
    "    v_greedy = np.empty_like(v)\n",
    "\n",
    "    for j in range(len(og_VI.grid)):\n",
    "        k = og_VI.grid[j]\n",
    "\n",
    "        # Maximize RHS of Bellman equation at state k\n",
    "        result = brent_max(og_VI.objective, 1e-10, og_VI.f(k)+0.9*k, args=(k, v))\n",
    "        v_greedy[j], v_new[j] = result[0], result[1]\n",
    "\n",
    "    return v_greedy, v_new"
   ]
  },
  {
   "cell_type": "markdown",
   "metadata": {},
   "source": [
    "### Q.1-3: Implement the Value Function Iteration\n",
    "\n",
    "Write a function that iterates the Bellman operator until the value function converges. \n",
    "\n",
    "- function head: `solve_model_VI(og_VI, tol=1e-4, max_iter=1000, print_skip=20)`\n",
    "- the arguements are analogous to those in the lecture.\n",
    "- use the grid vector for the state variable itself as the initial guess for the value function.\n",
    "- while iterating, the function should show the progress every 20 iteration.\n",
    "- the function should return the converged value function and the accompanying greedy function."
   ]
  },
  {
   "cell_type": "code",
   "execution_count": 39,
   "metadata": {},
   "outputs": [],
   "source": [
    "# your code here\n",
    "def solve_model_VI(og_VI,\n",
    "                tol=1e-4,\n",
    "                max_iter=1000,\n",
    "                verbose = True,\n",
    "                print_skip=20):\n",
    "    \"\"\"\n",
    "    Solve model by iterating with the Bellman operator.\n",
    "\n",
    "    \"\"\"\n",
    "\n",
    "    # Set up loop\n",
    "    v = og_VI.u(og_VI.grid)  # Initial condition\n",
    "    i = 0\n",
    "    error = tol + 1\n",
    "\n",
    "    while i < max_iter and error > tol:\n",
    "        v_greedy, v_new = T(v, og_VI)\n",
    "        error = np.max(np.abs(v - v_new))\n",
    "        i += 1\n",
    "        if verbose and i % print_skip == 0:\n",
    "            print(f\"Error at iteration {i} is {error}.\")\n",
    "        v = v_new\n",
    "\n",
    "    if i == max_iter:\n",
    "        print(\"Failed to converge!\")\n",
    "\n",
    "    if verbose and i < max_iter:\n",
    "        print(f\"\\nConverged in {i} iterations.\")\n",
    "\n",
    "    return v_greedy, v_new\n",
    "\n"
   ]
  },
  {
   "cell_type": "markdown",
   "metadata": {},
   "source": [
    "### Q.1-4: Run the Value function iteration\n",
    "\n",
    "- create an instance of the class OptimalGrowth_VI `og_VI` with the default parameter values defined in the class.\n",
    "- run `solve_model_VI`.\n",
    "- using the converged policy function `k_opt_VI`, compute the optimal consumption with respect to capital `c_opt_VI`. \n",
    "- plot figures for the converged value function, the policy function and the consumption function.\n"
   ]
  },
  {
   "cell_type": "code",
   "execution_count": 40,
   "metadata": {},
   "outputs": [
    {
     "name": "stdout",
     "output_type": "stream",
     "text": [
      "Error at iteration 20 is 0.3886781008870521.\n",
      "Error at iteration 40 is 0.15387619381741047.\n",
      "Error at iteration 60 is 0.06669488089628572.\n",
      "Error at iteration 80 is 0.02936971118219489.\n",
      "Error at iteration 100 is 0.012972191087037288.\n",
      "Error at iteration 120 is 0.005732919080493559.\n",
      "Error at iteration 140 is 0.0025338797364433674.\n",
      "Error at iteration 160 is 0.0011199689402907609.\n",
      "Error at iteration 180 is 0.000495030382825945.\n",
      "Error at iteration 200 is 0.0002188032889485214.\n",
      "Error at iteration 220 is 9.671651267595394e-05.\n",
      "\n",
      "Converged in 220 iterations.\n"
     ]
    }
   ],
   "source": [
    "# your code here\n",
    "og_VI = OptimalGrowth(α=0.4, \n",
    "                β=0.96,\n",
    "                γ=2,\n",
    "                δ=0.1,\n",
    "                grid_max=10,\n",
    "                grid_size=500,\n",
    "                seed=1234)\n",
    "\n",
    "\n",
    "k_opt, v_new = solve_model_VI(og_VI,\n",
    "                tol=1e-4,\n",
    "                max_iter=1000,\n",
    "                verbose = True,\n",
    "                print_skip=20)\n"
   ]
  },
  {
   "cell_type": "code",
   "execution_count": 46,
   "metadata": {},
   "outputs": [],
   "source": [
    "k_opt_VI = k_opt\n",
    "c_opt_VI = og_VI.f(k_opt_VI)+(1-og_VI.δ)*k_opt_VI-k_opt_VI"
   ]
  },
  {
   "cell_type": "code",
   "execution_count": 48,
   "metadata": {},
   "outputs": [
    {
     "data": {
      "image/png": "[encoded data removed]",
      "text/plain": [
       "<Figure size 648x432 with 1 Axes>"
      ]
     },
     "metadata": {
      "needs_background": "light"
     },
     "output_type": "display_data"
    }
   ],
   "source": [
    "fig, ax = plt.subplots()\n",
    "\n",
    "ax.plot(og_VI.grid, v_new, lw=2, alpha=0.6, label='converged value function')\n",
    "\n",
    "ax.legend()\n",
    "plt.show()"
   ]
  },
  {
   "cell_type": "code",
   "execution_count": 50,
   "metadata": {},
   "outputs": [
    {
     "data": {
      "image/png": "[encoded data removed]",
      "text/plain": [
       "<Figure size 648x432 with 1 Axes>"
      ]
     },
     "metadata": {
      "needs_background": "light"
     },
     "output_type": "display_data"
    }
   ],
   "source": [
    "fig, ax = plt.subplots()\n",
    "\n",
    "ax.plot(og_VI.grid, k_opt_VI, 'b-', lw=2, alpha=0.6, label='the policy function')\n",
    "\n",
    "ax.legend()\n",
    "plt.show()"
   ]
  },
  {
   "cell_type": "code",
   "execution_count": 51,
   "metadata": {},
   "outputs": [
    {
     "data": {
      "image/png": "[encoded data removed]",
      "text/plain": [
       "<Figure size 648x432 with 1 Axes>"
      ]
     },
     "metadata": {
      "needs_background": "light"
     },
     "output_type": "display_data"
    }
   ],
   "source": [
    "fig, ax = plt.subplots()\n",
    "\n",
    "ax.plot(og_VI.grid, c_opt_VI, 'b-', lw=2, alpha=0.6, label='the consumption function')\n",
    "\n",
    "ax.legend()\n",
    "plt.show()"
   ]
  },
  {
   "cell_type": "markdown",
   "metadata": {},
   "source": [
    "### Q.1-5: Compute the time-series of capital and consumption\n",
    "\n",
    "Suppose that the agent is endowed with $k_0$ at the very first period of her life. Each period, she chooses $k_{t+1}$, equivalently $c_t$, according to the policy function computed above. We want to compute the time-series of $k_t$ and $c_t$ thoughout her life using the optimal policy functions computed above.\n",
    "\n",
    "Write a function that simulates the capital and consumption of the agent. This function will be used again for the time iteration algorithm below.\n",
    "\n",
    "- function head: Simulate_Time_Series(T, k0, og, k_opt, c_opt)\n",
    "    - `T`: length of time-series\n",
    "    - `k0`: initial capital holdings\n",
    "    - `og`: model\n",
    "    - `k_opt`: converged policy function for $k'$ \n",
    "    - `c_opt`: policy function for $c$ \n",
    "- need to interpolate policy functions\n",
    "- compute and plot the time-series $\\{k_t, c_t\\}$ for $t=0, 1, \\cdots T$.\n"
   ]
  },
  {
   "cell_type": "code",
   "execution_count": 145,
   "metadata": {},
   "outputs": [],
   "source": [
    "from scipy.interpolate import interp1d\n",
    "def Simulate_Time_Series(og,T, k0, k_opt, c_opt):\n",
    "    k = np.empty(T)\n",
    "    c = np.empty(T)\n",
    "    k[0] = k0\n",
    "    c[0] = og.f(k0)+(1-og.δ)*k0-k0\n",
    "    k_func = lambda x: interp(og.grid, k_opt, x)\n",
    "    c_func = lambda x: interp(og.grid, c_opt, x)\n",
    "    for t in range(T-1):\n",
    "        k[t+1] = k_func(k[t])\n",
    "        c[t+1] = c_func(c[t])\n",
    "    return k,c"
   ]
  },
  {
   "cell_type": "markdown",
   "metadata": {},
   "source": [
    "### Q.1-6: Generate and plot the time series of capital and consumption\n",
    "\n",
    "Generate and plot `k_path_VI` and `c_path_VI` for $t=0, 1, \\cdots, 100$ with $k_0 = 1$."
   ]
  },
  {
   "cell_type": "code",
   "execution_count": 146,
   "metadata": {},
   "outputs": [],
   "source": [
    "# your code here\n",
    "og = OptimalGrowth(α=0.4, \n",
    "                β=0.96,\n",
    "                γ=2,\n",
    "                δ=0.1,\n",
    "                grid_max=10,\n",
    "                grid_size=500,\n",
    "                seed=1234)\n",
    "\n",
    "k_path_VI, c_path_VI = Simulate_Time_Series(og, T=101,k0=1, k_opt=k_opt_VI, c_opt=c_opt_VI )\n",
    "\n",
    "\n"
   ]
  },
  {
   "cell_type": "code",
   "execution_count": 152,
   "metadata": {},
   "outputs": [
    {
     "data": {
      "image/png": "[encoded data removed]",
      "text/plain": [
       "<Figure size 648x432 with 1 Axes>"
      ]
     },
     "metadata": {
      "needs_background": "light"
     },
     "output_type": "display_data"
    }
   ],
   "source": [
    "fig, ax = plt.subplots()\n",
    "\n",
    "ax.plot(k_path_VI, 'b-', lw=2, alpha=0.6, label='capital path')\n",
    "\n",
    "ax.legend()\n",
    "plt.show()"
   ]
  },
  {
   "cell_type": "code",
   "execution_count": 150,
   "metadata": {},
   "outputs": [
    {
     "data": {
      "image/png": "[encoded data removed]",
      "text/plain": [
       "<Figure size 648x432 with 1 Axes>"
      ]
     },
     "metadata": {
      "needs_background": "light"
     },
     "output_type": "display_data"
    }
   ],
   "source": [
    "fig, ax = plt.subplots()\n",
    "\n",
    "ax.plot(c_path_VI, 'b-', lw=2, alpha=0.6, label='consumption path')\n",
    "\n",
    "ax.legend()\n",
    "plt.show()"
   ]
  },
  {
   "cell_type": "markdown",
   "metadata": {},
   "source": [
    "## Question 2: Computation with Time Iteration"
   ]
  },
  {
   "cell_type": "markdown",
   "metadata": {},
   "source": [
    "Now we will solve the above model with a different computation algorithm, time iteration by Coleman. The utility and production functions satisfy all assumptions for the value function to be strictly concave, increasing and continuously differentiable. Hence the first-order conditions for the maximization yield the **Euler equation** as follows:\n",
    "\n",
    "$$\n",
    "u' (c) = \\beta u'(c') [f'(k') + 1 - \\delta]\n",
    "$$\n",
    "\n",
    "Equivalently, using the resource constraint, it can be written as:\n",
    "\n",
    "$$\n",
    "u' \\left( f(k) + (1-\\delta)k - k' \\right) = \\beta u' \\left( f(k') + (1-\\delta)k' - k'' \\right) \\left[ f'(k') + 1 - \\delta \\right]\n",
    "$$\n",
    "\n",
    "This Euler equation takes the form of the second order deffference equation, which is difficult to solve for. However, the essence of the time iteration algorithm is to find the fixed point of the policy function, $k' = \\sigma^*(k)$, through iterating the Coleman operator $K\\sigma$ that is defined:\n",
    "\n",
    "<a id='euler_eq'></a>\n",
    "$$\n",
    "u' \\left( f(k) + (1-\\delta)k - k' \\right) = \\beta u' \\left( f(k') + (1-\\delta)k' - \\sigma(k') \\right) \\left[ f'(k') + 1 - \\delta \\right] \\tag{6}\n",
    "$$\n"
   ]
  },
  {
   "cell_type": "markdown",
   "metadata": {},
   "source": [
    "### Q.2-1: Define the new class for the Time Iteration\n",
    "\n",
    "- class name: **OptimalGrowth_TI**\n",
    "- use the same parameter values as in the previous class **OptimalGrowth_VI**.\n",
    "- use the same production and utility functions as in **OptimalGrowth_VI**.\n",
    "- define functions for the derives of production and utility functions.\n",
    "- define a function for the Euler equation.\n",
    "- collect the model parameters and declare their types in **opt_growth_data**.\n",
    "- jit-compile the class with `@jitclass`\n"
   ]
  },
  {
   "cell_type": "code",
   "execution_count": 26,
   "metadata": {},
   "outputs": [],
   "source": [
    "# your code here\n",
    "import numpy as np\n",
    "import quantecon as qe\n",
    "import matplotlib.pyplot as plt\n",
    "%matplotlib inline\n",
    "\n",
    "from interpolation import interp\n",
    "from quantecon.optimize import brentq\n",
    "from numba import njit, float64\n",
    "from numba.experimental import jitclass\n",
    "\n",
    "plt.rcParams['figure.figsize'] = (10,6)\n",
    "\n",
    "opt_growth_data = [\n",
    "    ('α', float64),          # Production parameter\n",
    "    ('β', float64),          # Discount factor\n",
    "    ('γ', float64),           # Preference parameter\n",
    "    ('δ', float64),           # capital depreciation rate\n",
    "    ('grid', float64[:]),    # Grid (array)\n",
    "]\n",
    "\n",
    "@jitclass(opt_growth_data)\n",
    "class OptimalGrowth_TI:\n",
    "\n",
    "    def __init__(self,\n",
    "                α=0.4, \n",
    "                β=0.96,\n",
    "                γ=2,\n",
    "                δ=0.1,\n",
    "                grid_max=10,\n",
    "                grid_size=500,\n",
    "                seed=1234):\n",
    "\n",
    "        self.α, self.β, self.γ, self.δ = α, β, γ, δ\n",
    "\n",
    "        # Set up grid\n",
    "        self.grid = np.linspace(0.1, grid_max, grid_size)\n",
    "\n",
    "       \n",
    "    def f(self, k):\n",
    "        \"The production function\"\n",
    "        return k**self.α\n",
    "\n",
    "    def u(self, c):\n",
    "        \"The utility function\"\n",
    "        return c**(1 - self.γ) / (1 - self.γ)\n",
    "\n",
    "    def f_prime(self, k):\n",
    "        \"Derivative of f\"\n",
    "        return self.α * (k**(self.α - 1))\n",
    "\n",
    "\n",
    "    def u_prime(self, c):\n",
    "        \"Derivative of u\"\n",
    "        return c**(-self.γ)\n",
    "\n",
    "\n",
    "    def euler_diff(self, nk, σ, k):\n",
    "        \"\"\"\n",
    "        Set up a function such that the root with respect to nk,\n",
    "        given k and σ, is equal to Kσ(k).\n",
    "\n",
    "        \"\"\"\n",
    "\n",
    "        β, δ, grid = self.β, self.δ,self.grid\n",
    "        f, f_prime, u_prime = self.f, self.f_prime, self.u_prime\n",
    "\n",
    "        # First turn σ into a function via interpolation\n",
    "        σ_func = lambda x: interp(grid, σ, x)\n",
    "\n",
    "        # Now set up the function we need to find the root of.\n",
    "        # nk is k'\n",
    "        vals = u_prime(f(nk)+(1-δ)*nk-σ_func(nk))*(f_prime(nk)+1-δ)\n",
    "        return u_prime(f(k)+(1-δ)*k-nk) - β * vals\n",
    "    "
   ]
  },
  {
   "cell_type": "markdown",
   "metadata": {},
   "source": [
    "### Q.2-2: Define the Coleman operator\n",
    "\n",
    "Write a function that defines the Coleman operator $K$ that updates the optimal policy function $\\sigma$ by solving the (nonlinear) Equler equation for the optimal $k'$. The contents of the function should be very similar to those of `T`, the Bellman operator for the value function iteration algorithm. \n",
    "\n",
    "- function head: **K($\\sigma$, og_TI)**\n",
    "- $\\sigma$ is the vector of optimal policy for $k'$ in the current iteration.\n",
    "- `og_TI` is the instance of the class OptimalGrowth_TI to be initiated later.\n",
    "- solve the nonlinear euqation for $k'$ for each grid of $k$ using `brentq` function. You may refer to [this site](https://quanteconpy.readthedocs.io/en/latest/optimize/root_finding.html) to find the usage of `brentq`.\n",
    "- update the policy value function $\\sigma_{new}$.\n",
    "- jit-compile the function with @njit\n",
    "- need to import `brentq`:"
   ]
  },
  {
   "cell_type": "code",
   "execution_count": 27,
   "metadata": {},
   "outputs": [],
   "source": [
    "from quantecon.optimize.root_finding import brentq"
   ]
  },
  {
   "cell_type": "markdown",
   "metadata": {},
   "source": [
    "- code for the function **K($\\sigma$, og_TI)** below:"
   ]
  },
  {
   "cell_type": "code",
   "execution_count": 28,
   "metadata": {},
   "outputs": [],
   "source": [
    "# your code here\n",
    "@njit\n",
    "def K(σ, og_TI):\n",
    "    \"\"\"\n",
    "    The Coleman-Reffett operator\n",
    "\n",
    "     Here og is an instance of OptimalGrowthModel.\n",
    "    \"\"\"\n",
    "\n",
    "    β,δ = og_TI.β, og_TI.δ\n",
    "    f, f_prime, u_prime = og_TI.f, og_TI.f_prime, og_TI.u_prime\n",
    "    grid = og_TI.grid\n",
    "\n",
    "    σ_new = np.empty_like(σ)\n",
    "    for i, k in enumerate(grid):\n",
    "        # Solve for optimal nk at k\n",
    "        results = brentq(og_TI.euler_diff, 1e-10, f(k)+(1-δ)*k-1e-10, args=(σ, k))\n",
    "        σ_new[i] = results[0]\n",
    "\n",
    "    return σ_new\n",
    "\n"
   ]
  },
  {
   "cell_type": "markdown",
   "metadata": {},
   "source": [
    "### Q.2-3: Implement the Time Iteration\n",
    "\n",
    "Write a function that iterates the Coleman operator until the policy function converges. \n",
    "\n",
    "- function head: `solve_model_TI(og_TI, tol=1e-4, max_iter=1000, print_skip=5)`\n",
    "- the contents of the function are similar to those in the previous `solve_model_VI`."
   ]
  },
  {
   "cell_type": "code",
   "execution_count": 29,
   "metadata": {},
   "outputs": [],
   "source": [
    "# your code here\n",
    "def solve_model_TI(og_TI,    # Class with model information\n",
    "                          σ,        # Initial condition\n",
    "                          tol=1e-4,\n",
    "                          max_iter=1000,\n",
    "                          verbose=True,\n",
    "                          print_skip=5):\n",
    "\n",
    "    # Set up loop\n",
    "    i = 0\n",
    "    error = tol + 1\n",
    "\n",
    "    while i < max_iter and error > tol:\n",
    "        σ_new = K(σ, og_TI)\n",
    "        error = np.max(np.abs(σ - σ_new))\n",
    "        i += 1\n",
    "        if verbose and i % print_skip == 0:\n",
    "            print(f\"Error at iteration {i} is {error}.\")\n",
    "        σ = σ_new\n",
    "\n",
    "    if i == max_iter:\n",
    "        print(\"Failed to converge!\")\n",
    "\n",
    "    if verbose and i < max_iter:\n",
    "        print(f\"\\nConverged in {i} iterations.\")\n",
    "\n",
    "    return σ_new\n",
    "\n"
   ]
  },
  {
   "cell_type": "markdown",
   "metadata": {},
   "source": [
    "### Q.2-4: Run the Time Iteration\n",
    "\n",
    "- create an instance of the class OptimalGrowth `og_TI` with the default parameter values defined in the class.\n",
    "- run `solve_model_TI`.\n",
    "- using the converged policy function `k_opt_TI`, compute the optimal consumption with respect to capital `c_opt_TI`. \n",
    "- plot figures for the converged policy function and the consumption function.\n",
    "- compute the steady state capital $k^*$ such that $k^*=k'(k^*)$ which is the solution to $1 = \\beta \\left(f'(k^*) + 1- \\delta \\right)$. \n",
    "- add a 45 degree line on the figure for the policy function to identify the steady state capital.\n",
    "- put a mark at the coordinate of the steady state in the figure for the policy function."
   ]
  },
  {
   "cell_type": "code",
   "execution_count": 30,
   "metadata": {},
   "outputs": [
    {
     "name": "stdout",
     "output_type": "stream",
     "text": [
      "Error at iteration 5 is 0.029038969280886562.\n",
      "Error at iteration 10 is 0.0195602206299359.\n",
      "Error at iteration 15 is 0.009274881700076065.\n",
      "Error at iteration 20 is 0.003608511692590355.\n",
      "Error at iteration 25 is 0.001305904237108635.\n",
      "Error at iteration 30 is 0.00046365244006452144.\n",
      "Error at iteration 35 is 0.00016423748952121286.\n",
      "\n",
      "Converged in 38 iterations.\n"
     ]
    }
   ],
   "source": [
    "# your code here\n",
    "og_TI = OptimalGrowth_TI(α=0.4, \n",
    "                β=0.96,\n",
    "                γ=2,\n",
    "                δ=0.1,\n",
    "                grid_max=10,\n",
    "                grid_size=500,\n",
    "                seed=1234)\n",
    "σ_init = np.copy(og_TI.grid)\n",
    "σ = solve_model_TI(og_TI, σ_init)\n"
   ]
  },
  {
   "cell_type": "code",
   "execution_count": 90,
   "metadata": {},
   "outputs": [],
   "source": [
    "k_opt_TI = σ\n",
    "c_opt_TI = og_TI.f(k_opt_TI)+(1-og_TI.δ)*k_opt_TI-k_opt_TI"
   ]
  },
  {
   "cell_type": "code",
   "execution_count": 91,
   "metadata": {},
   "outputs": [
    {
     "data": {
      "image/png": "[encoded data removed]",
      "text/plain": [
       "<Figure size 648x432 with 1 Axes>"
      ]
     },
     "metadata": {
      "needs_background": "light"
     },
     "output_type": "display_data"
    }
   ],
   "source": [
    "fig, ax = plt.subplots()\n",
    "\n",
    "ax.plot(og_TI.grid, k_opt_TI, 'b-', lw=2, alpha=0.6, label='converged policy function')\n",
    "\n",
    "ax.legend()\n",
    "plt.show()"
   ]
  },
  {
   "cell_type": "code",
   "execution_count": 92,
   "metadata": {},
   "outputs": [
    {
     "data": {
      "image/png": "[encoded data removed]",
      "text/plain": [
       "<Figure size 648x432 with 1 Axes>"
      ]
     },
     "metadata": {
      "needs_background": "light"
     },
     "output_type": "display_data"
    }
   ],
   "source": [
    "fig, ax = plt.subplots()\n",
    "\n",
    "ax.plot(og_TI.grid, c_opt_TI, 'b-', lw=2, alpha=0.6, label='the consumption function')\n",
    "\n",
    "ax.legend()\n",
    "plt.show()"
   ]
  },
  {
   "cell_type": "code",
   "execution_count": 93,
   "metadata": {},
   "outputs": [],
   "source": [
    "def f_prime_inv(k):\n",
    "    return (k/og_TI.α)**(1/(og_TI.α-1))"
   ]
  },
  {
   "cell_type": "code",
   "execution_count": 94,
   "metadata": {},
   "outputs": [],
   "source": [
    "k_ss = f_prime_inv(1/og_TI.β-1+og_TI.δ)"
   ]
  },
  {
   "cell_type": "code",
   "execution_count": 95,
   "metadata": {},
   "outputs": [
    {
     "data": {
      "text/plain": [
       "5.640537964584442"
      ]
     },
     "execution_count": 95,
     "metadata": {},
     "output_type": "execute_result"
    }
   ],
   "source": [
    "k_ss"
   ]
  },
  {
   "cell_type": "code",
   "execution_count": 103,
   "metadata": {},
   "outputs": [
    {
     "data": {
      "image/png": "[encoded data removed]",
      "text/plain": [
       "<Figure size 648x432 with 1 Axes>"
      ]
     },
     "metadata": {
      "needs_background": "light"
     },
     "output_type": "display_data"
    }
   ],
   "source": [
    "fig, ax = plt.subplots()\n",
    "\n",
    "ax.plot(og_TI.grid, k_opt_TI, 'b-', lw=2, alpha=0.6, label='converged policy function')\n",
    "ax.plot(og_TI.grid, og_TI.grid, label = '45 degree line')\n",
    "ax.scatter(k_ss, k_ss, s=80)\n",
    "ax.legend()\n",
    "plt.show()"
   ]
  },
  {
   "cell_type": "markdown",
   "metadata": {},
   "source": [
    "### Q.2-5: Generate and plot the time-series of capital and consumption\n",
    "\n",
    "- Generate and plot `k_path_TI` and `c_path_TI` for $t=0, 1, \\cdots, 100$ with $k_0 = 1$.\n",
    "- You should get the identical figures for `k_path_TI` and `c_path_TI` as `k_path_VI` and `c_path_VI` in Q.1-6.\n",
    "- You don't need to write a fucntion to generate the time-series, but you can just use `Simulate_Time_Series` function that you defined for Q.1-5."
   ]
  },
  {
   "cell_type": "code",
   "execution_count": 151,
   "metadata": {},
   "outputs": [],
   "source": [
    "# your code here\n",
    "og_TI = OptimalGrowth_TI(α=0.4, \n",
    "                β=0.96,\n",
    "                γ=2,\n",
    "                δ=0.1,\n",
    "                grid_max=10,\n",
    "                grid_size=500,\n",
    "                seed=1234)\n",
    "\n",
    "k_path_TI, c_path_TI = Simulate_Time_Series(og_TI, T=101,k0=1, k_opt=k_opt_TI, c_opt=c_opt_TI )\n",
    "\n",
    "\n"
   ]
  },
  {
   "cell_type": "code",
   "execution_count": 153,
   "metadata": {},
   "outputs": [
    {
     "data": {
      "image/png": "[encoded data removed]",
      "text/plain": [
       "<Figure size 648x432 with 1 Axes>"
      ]
     },
     "metadata": {
      "needs_background": "light"
     },
     "output_type": "display_data"
    }
   ],
   "source": [
    "fig, ax = plt.subplots()\n",
    "\n",
    "ax.plot(k_path_VI, 'b-', lw=2, alpha=0.6, label='capital path_VI')\n",
    "ax.plot(k_path_TI, 'r-', lw=2, alpha=0.6, label='capital path_TI')\n",
    "\n",
    "ax.legend()\n",
    "plt.show()"
   ]
  },
  {
   "cell_type": "code",
   "execution_count": 155,
   "metadata": {},
   "outputs": [
    {
     "data": {
      "image/png": "[encoded data removed]",
      "text/plain": [
       "<Figure size 648x432 with 1 Axes>"
      ]
     },
     "metadata": {
      "needs_background": "light"
     },
     "output_type": "display_data"
    }
   ],
   "source": [
    "fig, ax = plt.subplots()\n",
    "\n",
    "ax.plot(c_path_VI, 'b-', lw=2, alpha=0.6, label='consumption path_VI')\n",
    "ax.plot(c_path_TI, 'r-', lw=2, alpha=0.6, label='consumption path_TI')\n",
    "\n",
    "ax.legend()\n",
    "plt.show()"
   ]
  },
  {
   "cell_type": "markdown",
   "metadata": {},
   "source": [
    "## Qeustion 3: Computation with Endogenous Grid Method"
   ]
  },
  {
   "cell_type": "markdown",
   "metadata": {},
   "source": [
    "Now we will solve the above model with a different computation algorithm, endogenous grid method by Carroll. The Euler equation in [(6)](#euler_eq) can be manipulated as: \n",
    "\n",
    "<a id='euler_egm'></a>\n",
    "$$\n",
    "f(k) + (1-\\delta)k - k' = u'^{-1} \\left( \\beta u' \\left( f(k') + (1-\\delta)k' - k'' \\right) \\left[ f'(k') + 1 - \\delta \\right] \\right)\n",
    "$$\n",
    "\n",
    "Although it is possible to keep capital as a state variable, it is more tractable to use the total resource $y = f(k) + (1-\\delta)k$ as a state variable, which is disposed of $y = k' + c$. The policy function can be defined $\\sigma: y \\to k'$. According to this formulation, the Euler equation yields: \n",
    "\n",
    "$$\n",
    "y - k' = u'^{-1} \\left( \\beta u' \\left( y' - \\sigma(y') \\right) \\left[ f'(k') + 1 - \\delta \\right] \\right)\n",
    "$$\n",
    "\n",
    "In order to apply the EGM, we construct the fixed grid for $k'$ and the corresponding vector of $y$'s will be determined endogenously such that $y_i = \\sigma^{-1}(k'_i)$ for $i=0, 1, \\cdots, N-1$."
   ]
  },
  {
   "cell_type": "markdown",
   "metadata": {},
   "source": [
    "### Q.3-1: Define the new class for the EGM\n",
    "\n",
    "- class name: **OptimalGrowth_EGM**\n",
    "- the class inherits alla the parameters and functions from **OptimalGrowth_TI**.\n",
    "- it need an additonal function that defines the inverse of the marginal utility: `u_prime_inv` \n",
    "- collect the model parameters and declare their types in **opt_growth_data_EHM**.\n",
    "- jit-compile the class with `@jitclass`\n"
   ]
  },
  {
   "cell_type": "code",
   "execution_count": 104,
   "metadata": {},
   "outputs": [],
   "source": [
    "# your code here\n",
    "opt_growth_data_EGM = [\n",
    "    ('α', float64),          # Production parameter\n",
    "    ('β', float64),          # Discount factor\n",
    "    ('γ', float64),           # Preference parameter\n",
    "    ('δ', float64),           # capital depreciation rate\n",
    "    ('grid', float64[:]),    # Grid (array)\n",
    "]\n",
    "\n",
    "@jitclass(opt_growth_data_EGM)\n",
    "class OptimalGrowth_EGM:\n",
    "\n",
    "    def __init__(self,\n",
    "                α=0.4, \n",
    "                β=0.96,\n",
    "                γ=2,\n",
    "                δ=0.1,\n",
    "                grid_max=10,\n",
    "                grid_size=500,\n",
    "                seed=1234):\n",
    "\n",
    "        self.α, self.β, self.γ, self.δ = α, β, γ, δ\n",
    "\n",
    "        # Set up grid\n",
    "        self.grid = np.linspace(0.1, grid_max, grid_size)\n",
    "\n",
    "       \n",
    "    def f(self, k):\n",
    "        \"The production function\"\n",
    "        return k**self.α\n",
    "\n",
    "    def u(self, c):\n",
    "        \"The utility function\"\n",
    "        return c**(1 - self.γ) / (1 - self.γ)\n",
    "\n",
    "    def f_prime(self, k):\n",
    "        \"Derivative of f\"\n",
    "        return self.α * (k**(self.α - 1))\n",
    "\n",
    "\n",
    "    def u_prime(self, c):\n",
    "        \"Derivative of u\"\n",
    "        return c**(-self.γ)\n",
    "\n",
    "    def u_prime_inv(self, c):\n",
    "        \"Inverse of u'\"\n",
    "        return c**(-1/self.γ)\n",
    "\n"
   ]
  },
  {
   "cell_type": "markdown",
   "metadata": {},
   "source": [
    "### Q.3-2: Define the modified Coleman operator\n",
    "\n",
    "The modified Coleman operator $G$ is defined to reflect the endogenous grid method. \n",
    "\n",
    "- function head: **G($\\sigma_{inv}$, og_EGM)**\n",
    "- $\\sigma_{inv}$ contains the values of total resources $y_i$'s corresponding to the fixed grid $k'_i$'s in the current iteration.\n",
    "- `og_EGM` is the instance of the class OptimalGrowth_EGM to be initiated later.\n",
    "- update the endogenous grid vector $\\sigma_{inv-new}$.\n",
    "- jit-compile the function with @njit\n"
   ]
  },
  {
   "cell_type": "code",
   "execution_count": 128,
   "metadata": {},
   "outputs": [],
   "source": [
    "# your code here\n",
    "@njit\n",
    "def G(σ_inv, og_EGM):\n",
    "    \"\"\"\n",
    "    The Coleman operator using EGM\n",
    "    σ_inv(k') = y\n",
    "    \"\"\"\n",
    "\n",
    "    # Simplify names\n",
    "    f, β,δ = og_EGM.f, og_EGM.β, og_EGM.δ\n",
    "    f_prime, u_prime = og_EGM.f_prime, og_EGM.u_prime\n",
    "    u_prime_inv = og_EGM.u_prime_inv\n",
    "    grid = og_EGM.grid\n",
    "    \n",
    "    y = f(grid) + (1-δ)*grid\n",
    "    σ_inv_func = lambda x: interp(y, σ_inv, x)\n",
    "    σ_inv_new= np.empty_like(grid)\n",
    "\n",
    "    # Solve for updated consumption value\n",
    "    for i, k in enumerate(grid):\n",
    "        vals = u_prime(σ_inv_func(k)-k) * (f_prime(k)+1-δ)\n",
    "        σ_inv_new[i] = u_prime_inv(β * vals) + k\n",
    "\n",
    "    return σ_inv_new\n",
    "\n"
   ]
  },
  {
   "cell_type": "markdown",
   "metadata": {},
   "source": [
    "### Q.3-3: Implement the EGM\n",
    "\n",
    "Write a function that iterates the Coleman operator until the policy function converges. \n",
    "\n",
    "- function head: `solve_model_EGM(og_EGM, tol=1e-4, max_iter=1000, print_skip=5)`\n",
    "- the contents of the function are similar to those in the previous `solve_model_EGM` for the value function iteration algorithm."
   ]
  },
  {
   "cell_type": "code",
   "execution_count": 129,
   "metadata": {},
   "outputs": [],
   "source": [
    "# your code here\n",
    "def solve_model_EGM(og_EGM,    # Class with model information\n",
    "                          σ_inv,        # Initial condition\n",
    "                          tol=1e-4,\n",
    "                          max_iter=1000,\n",
    "                          verbose=True,\n",
    "                          print_skip=5):\n",
    "\n",
    "    # Set up loop\n",
    "    i = 0\n",
    "    error = tol + 1\n",
    "\n",
    "    while i < max_iter and error > tol:\n",
    "        σ_inv_new = G(σ_inv, og_EGM)\n",
    "        error = np.max(np.abs(σ_inv - σ_inv_new))\n",
    "        i += 1\n",
    "        if verbose and i % print_skip == 0:\n",
    "            print(f\"Error at iteration {i} is {error}.\")\n",
    "        σ_inv = σ_inv_new\n",
    "\n",
    "    if i == max_iter:\n",
    "        print(\"Failed to converge!\")\n",
    "\n",
    "    if verbose and i < max_iter:\n",
    "        print(f\"\\nConverged in {i} iterations.\")\n",
    "\n",
    "    return σ_inv_new\n",
    "\n"
   ]
  },
  {
   "cell_type": "markdown",
   "metadata": {},
   "source": [
    "### Q.3-4: Run the EGM\n",
    "\n",
    "- create an instance of the class OptimalGrowth `og_EGM` with the default parameter values defined in the class.\n",
    "- run `solve_model_EGM` to get the converged inverse policy function in the vector of which elements are $y_i=\\sigma^{-1}(k'_i)$.\n",
    "- in order to present the results compatible with the previous algorithms, we will convert the state variable back to capital so that the policy function is defined as $\\tilde{\\sigma}: k \\to k'$. In other words, we solve for the endogenous grid vector $k_i$'s such that $y_i = f(k_i) + (1-\\delta)k_i$. This is a nonlinear equation, hence it needs to be solved through `brentq`.\n",
    "- using $\\tilde{\\sigma}$, compute the optimal consumption with respect to capital `c_opt_EGM`. \n",
    "- plot figures for the converged policy function and the consumption function.\n",
    "- compute the steady state capital $k^*$ such that $k^*=k'(k^*)$ which is the solution to $1 = \\beta \\left(f'(k^*) + 1- \\delta \\right)$. \n",
    "- add a 45 degree line on the figure for the policy function to identify the steady state capital.\n",
    "- put a mark at the coordinate of the steady state in the figure for the policy function."
   ]
  },
  {
   "cell_type": "code",
   "execution_count": 130,
   "metadata": {},
   "outputs": [
    {
     "name": "stdout",
     "output_type": "stream",
     "text": [
      "Error at iteration 5 is 1.2884470455358255.\n",
      "Error at iteration 10 is 0.0.\n",
      "\n",
      "Converged in 10 iterations.\n"
     ]
    }
   ],
   "source": [
    "# your code here\n",
    "og_EGM = OptimalGrowth_EGM(α=0.4, \n",
    "                β=0.96,\n",
    "                γ=2,\n",
    "                δ=0.1,\n",
    "                grid_max=10,\n",
    "                grid_size=500,\n",
    "                seed=1234)\n",
    "σ_inv_init = np.copy(og_EGM.grid)\n",
    "σ_inv = solve_model_EGM(og_EGM, σ_inv_init)\n",
    "\n"
   ]
  },
  {
   "cell_type": "code",
   "execution_count": 358,
   "metadata": {},
   "outputs": [],
   "source": [
    "@njit\n",
    "def σ_tilda_func(σ_inv_tilda,nk,k):\n",
    "        \"\"\"\n",
    "        Set up a function such that the root with respect to nk,\n",
    "        given k and σ_inv, is equal to σ_tilda(k).\n",
    "\n",
    "        \"\"\"\n",
    "\n",
    "        δ, grid = og_EGM.δ, og_EGM.grid\n",
    "        f= og_EGM.f\n",
    "\n",
    "        # First turn σ_inv into a function via interpolation\n",
    "        #y = f(grid)+(1-δ)*grid\n",
    "        σ_inv_func = lambda x: interp(grid, σ_inv_tilda, x)\n",
    "        vals = f(k)+(1-δ)*k\n",
    "        return σ_inv_func(nk)-vals"
   ]
  },
  {
   "cell_type": "code",
   "execution_count": 359,
   "metadata": {
    "scrolled": false
   },
   "outputs": [
    {
     "ename": "TypingError",
     "evalue": "Failed in nopython mode pipeline (step: nopython frontend)\n\u001b[1m\u001b[1m\u001b[1m\u001b[1m\u001b[1m\u001b[1m\u001b[1m\u001b[1m\u001b[1m\u001b[1m\u001b[1m\u001b[1m\u001b[1m\u001b[1mFailed in nopython mode pipeline (step: nopython frontend)\nInternal error at <numba.core.typeinfer.CallConstraint object at 0x00000141B6216FA0>.\n\u001b[1m\u001b[1m\u001b[1m'Float' object has no attribute 'ndim'\u001b[0m\n\u001b[0m\u001b[1mDuring: resolving callee type: type(CPUDispatcher(<function interp at 0x00000141B56BEF70>))\u001b[0m\n\u001b[0m\u001b[1mDuring: typing of call at C:\\Users\\jaeyo\\AppData\\Local\\Temp/ipykernel_23188/3207488708.py (14)\n\u001b[0m\nEnable logging at debug level for details.\n\u001b[1m\nFile \"..\\..\\..\\..\\AppData\\Local\\Temp\\ipykernel_23188\\3207488708.py\", line 14:\u001b[0m\n\u001b[1m<source missing, REPL/exec in use?>\u001b[0m\n\n\u001b[0m\u001b[1mDuring: resolving callee type: type(CPUDispatcher(<function σ_tilda_func at 0x00000141B9522B80>))\u001b[0m\n\u001b[0m\u001b[1mDuring: typing of call at C:\\Users\\jaeyo\\anaconda3\\lib\\site-packages\\quantecon\\optimize\\root_finding.py (425)\n\u001b[0m\n\u001b[0m\u001b[1mDuring: resolving callee type: type(CPUDispatcher(<function σ_tilda_func at 0x00000141B9522B80>))\u001b[0m\n\u001b[0m\u001b[1mDuring: typing of call at C:\\Users\\jaeyo\\anaconda3\\lib\\site-packages\\quantecon\\optimize\\root_finding.py (426)\n\u001b[0m\n\u001b[0m\u001b[1mDuring: resolving callee type: type(CPUDispatcher(<function σ_tilda_func at 0x00000141B9522B80>))\u001b[0m\n\u001b[0m\u001b[1mDuring: typing of call at C:\\Users\\jaeyo\\anaconda3\\lib\\site-packages\\quantecon\\optimize\\root_finding.py (491)\n\u001b[0m\n\u001b[0m\u001b[1mDuring: resolving callee type: type(CPUDispatcher(<function σ_tilda_func at 0x00000141B9522B80>))\u001b[0m\n\u001b[0m\u001b[1mDuring: typing of call at C:\\Users\\jaeyo\\anaconda3\\lib\\site-packages\\quantecon\\optimize\\root_finding.py (425)\n\u001b[0m\n\u001b[0m\u001b[1mDuring: resolving callee type: type(CPUDispatcher(<function σ_tilda_func at 0x00000141B9522B80>))\u001b[0m\n\u001b[0m\u001b[1mDuring: typing of call at C:\\Users\\jaeyo\\anaconda3\\lib\\site-packages\\quantecon\\optimize\\root_finding.py (426)\n\u001b[0m\n\u001b[0m\u001b[1mDuring: resolving callee type: type(CPUDispatcher(<function σ_tilda_func at 0x00000141B9522B80>))\u001b[0m\n\u001b[0m\u001b[1mDuring: typing of call at C:\\Users\\jaeyo\\anaconda3\\lib\\site-packages\\quantecon\\optimize\\root_finding.py (491)\n\u001b[0m\n\u001b[0m\u001b[1mDuring: resolving callee type: type(CPUDispatcher(<function σ_tilda_func at 0x00000141B9522B80>))\u001b[0m\n\u001b[0m\u001b[1mDuring: typing of call at C:\\Users\\jaeyo\\anaconda3\\lib\\site-packages\\quantecon\\optimize\\root_finding.py (425)\n\u001b[0m\n\u001b[1m\nFile \"..\\..\\..\\..\\anaconda3\\lib\\site-packages\\quantecon\\optimize\\root_finding.py\", line 425:\u001b[0m\n\u001b[1mdef brentq(f, a, b, args=(), xtol=_xtol,\n    <source elided>\n\n\u001b[1m    fpre = f(xpre, *args)\n\u001b[0m    \u001b[1m^\u001b[0m\u001b[0m\n",
     "output_type": "error",
     "traceback": [
      "\u001b[1;31m---------------------------------------------------------------------------\u001b[0m",
      "\u001b[1;31mTypingError\u001b[0m                               Traceback (most recent call last)",
      "\u001b[1;32m~\\AppData\\Local\\Temp/ipykernel_23188/3304065237.py\u001b[0m in \u001b[0;36m<module>\u001b[1;34m\u001b[0m\n\u001b[0;32m      2\u001b[0m \u001b[0mσ_inv_tilda\u001b[0m \u001b[1;33m=\u001b[0m \u001b[0mσ_inv\u001b[0m\u001b[1;33m\u001b[0m\u001b[1;33m\u001b[0m\u001b[0m\n\u001b[0;32m      3\u001b[0m \u001b[1;32mfor\u001b[0m \u001b[0mi\u001b[0m\u001b[1;33m,\u001b[0m \u001b[0mk\u001b[0m \u001b[1;32min\u001b[0m \u001b[0menumerate\u001b[0m\u001b[1;33m(\u001b[0m\u001b[0mog_EGM\u001b[0m\u001b[1;33m.\u001b[0m\u001b[0mgrid\u001b[0m\u001b[1;33m)\u001b[0m\u001b[1;33m:\u001b[0m\u001b[1;33m\u001b[0m\u001b[1;33m\u001b[0m\u001b[0m\n\u001b[1;32m----> 4\u001b[1;33m     \u001b[0mresults\u001b[0m \u001b[1;33m=\u001b[0m \u001b[0mbrentq\u001b[0m\u001b[1;33m(\u001b[0m\u001b[0mσ_tilda_func\u001b[0m\u001b[1;33m,\u001b[0m \u001b[1;36m1e-10\u001b[0m\u001b[1;33m,\u001b[0m \u001b[0mog_EGM\u001b[0m\u001b[1;33m.\u001b[0m\u001b[0mf\u001b[0m\u001b[1;33m(\u001b[0m\u001b[0mk\u001b[0m\u001b[1;33m)\u001b[0m\u001b[1;33m+\u001b[0m\u001b[1;33m(\u001b[0m\u001b[1;36m1\u001b[0m\u001b[1;33m-\u001b[0m\u001b[0mog_EGM\u001b[0m\u001b[1;33m.\u001b[0m\u001b[0mδ\u001b[0m\u001b[1;33m)\u001b[0m\u001b[1;33m*\u001b[0m\u001b[0mk\u001b[0m\u001b[1;33m-\u001b[0m\u001b[1;36m1e-10\u001b[0m\u001b[1;33m,\u001b[0m\u001b[0margs\u001b[0m\u001b[1;33m=\u001b[0m\u001b[1;33m(\u001b[0m\u001b[0mσ_inv_tilda\u001b[0m\u001b[1;33m,\u001b[0m\u001b[0mk\u001b[0m\u001b[1;33m)\u001b[0m\u001b[1;33m)\u001b[0m\u001b[1;33m\u001b[0m\u001b[1;33m\u001b[0m\u001b[0m\n\u001b[0m\u001b[0;32m      5\u001b[0m     \u001b[0mσ_tilda\u001b[0m\u001b[1;33m[\u001b[0m\u001b[0mi\u001b[0m\u001b[1;33m]\u001b[0m \u001b[1;33m=\u001b[0m \u001b[0mresults\u001b[0m\u001b[1;33m[\u001b[0m\u001b[1;36m0\u001b[0m\u001b[1;33m]\u001b[0m\u001b[1;33m\u001b[0m\u001b[1;33m\u001b[0m\u001b[0m\n",
      "\u001b[1;32m~\\anaconda3\\lib\\site-packages\\numba\\core\\dispatcher.py\u001b[0m in \u001b[0;36m_compile_for_args\u001b[1;34m(self, *args, **kws)\u001b[0m\n\u001b[0;32m    480\u001b[0m                 \u001b[0me\u001b[0m\u001b[1;33m.\u001b[0m\u001b[0mpatch_message\u001b[0m\u001b[1;33m(\u001b[0m\u001b[0mmsg\u001b[0m\u001b[1;33m)\u001b[0m\u001b[1;33m\u001b[0m\u001b[1;33m\u001b[0m\u001b[0m\n\u001b[0;32m    481\u001b[0m \u001b[1;33m\u001b[0m\u001b[0m\n\u001b[1;32m--> 482\u001b[1;33m             \u001b[0merror_rewrite\u001b[0m\u001b[1;33m(\u001b[0m\u001b[0me\u001b[0m\u001b[1;33m,\u001b[0m \u001b[1;34m'typing'\u001b[0m\u001b[1;33m)\u001b[0m\u001b[1;33m\u001b[0m\u001b[1;33m\u001b[0m\u001b[0m\n\u001b[0m\u001b[0;32m    483\u001b[0m         \u001b[1;32mexcept\u001b[0m \u001b[0merrors\u001b[0m\u001b[1;33m.\u001b[0m\u001b[0mUnsupportedError\u001b[0m \u001b[1;32mas\u001b[0m \u001b[0me\u001b[0m\u001b[1;33m:\u001b[0m\u001b[1;33m\u001b[0m\u001b[1;33m\u001b[0m\u001b[0m\n\u001b[0;32m    484\u001b[0m             \u001b[1;31m# Something unsupported is present in the user code, add help info\u001b[0m\u001b[1;33m\u001b[0m\u001b[1;33m\u001b[0m\u001b[0m\n",
      "\u001b[1;32m~\\anaconda3\\lib\\site-packages\\numba\\core\\dispatcher.py\u001b[0m in \u001b[0;36merror_rewrite\u001b[1;34m(e, issue_type)\u001b[0m\n\u001b[0;32m    421\u001b[0m                 \u001b[1;32mraise\u001b[0m \u001b[0me\u001b[0m\u001b[1;33m\u001b[0m\u001b[1;33m\u001b[0m\u001b[0m\n\u001b[0;32m    422\u001b[0m             \u001b[1;32melse\u001b[0m\u001b[1;33m:\u001b[0m\u001b[1;33m\u001b[0m\u001b[1;33m\u001b[0m\u001b[0m\n\u001b[1;32m--> 423\u001b[1;33m                 \u001b[1;32mraise\u001b[0m \u001b[0me\u001b[0m\u001b[1;33m.\u001b[0m\u001b[0mwith_traceback\u001b[0m\u001b[1;33m(\u001b[0m\u001b[1;32mNone\u001b[0m\u001b[1;33m)\u001b[0m\u001b[1;33m\u001b[0m\u001b[1;33m\u001b[0m\u001b[0m\n\u001b[0m\u001b[0;32m    424\u001b[0m \u001b[1;33m\u001b[0m\u001b[0m\n\u001b[0;32m    425\u001b[0m         \u001b[0margtypes\u001b[0m \u001b[1;33m=\u001b[0m \u001b[1;33m[\u001b[0m\u001b[1;33m]\u001b[0m\u001b[1;33m\u001b[0m\u001b[1;33m\u001b[0m\u001b[0m\n",
      "\u001b[1;31mTypingError\u001b[0m: Failed in nopython mode pipeline (step: nopython frontend)\n\u001b[1m\u001b[1m\u001b[1m\u001b[1m\u001b[1m\u001b[1m\u001b[1m\u001b[1m\u001b[1m\u001b[1m\u001b[1m\u001b[1m\u001b[1m\u001b[1mFailed in nopython mode pipeline (step: nopython frontend)\nInternal error at <numba.core.typeinfer.CallConstraint object at 0x00000141B6216FA0>.\n\u001b[1m\u001b[1m\u001b[1m'Float' object has no attribute 'ndim'\u001b[0m\n\u001b[0m\u001b[1mDuring: resolving callee type: type(CPUDispatcher(<function interp at 0x00000141B56BEF70>))\u001b[0m\n\u001b[0m\u001b[1mDuring: typing of call at C:\\Users\\jaeyo\\AppData\\Local\\Temp/ipykernel_23188/3207488708.py (14)\n\u001b[0m\nEnable logging at debug level for details.\n\u001b[1m\nFile \"..\\..\\..\\..\\AppData\\Local\\Temp\\ipykernel_23188\\3207488708.py\", line 14:\u001b[0m\n\u001b[1m<source missing, REPL/exec in use?>\u001b[0m\n\n\u001b[0m\u001b[1mDuring: resolving callee type: type(CPUDispatcher(<function σ_tilda_func at 0x00000141B9522B80>))\u001b[0m\n\u001b[0m\u001b[1mDuring: typing of call at C:\\Users\\jaeyo\\anaconda3\\lib\\site-packages\\quantecon\\optimize\\root_finding.py (425)\n\u001b[0m\n\u001b[0m\u001b[1mDuring: resolving callee type: type(CPUDispatcher(<function σ_tilda_func at 0x00000141B9522B80>))\u001b[0m\n\u001b[0m\u001b[1mDuring: typing of call at C:\\Users\\jaeyo\\anaconda3\\lib\\site-packages\\quantecon\\optimize\\root_finding.py (426)\n\u001b[0m\n\u001b[0m\u001b[1mDuring: resolving callee type: type(CPUDispatcher(<function σ_tilda_func at 0x00000141B9522B80>))\u001b[0m\n\u001b[0m\u001b[1mDuring: typing of call at C:\\Users\\jaeyo\\anaconda3\\lib\\site-packages\\quantecon\\optimize\\root_finding.py (491)\n\u001b[0m\n\u001b[0m\u001b[1mDuring: resolving callee type: type(CPUDispatcher(<function σ_tilda_func at 0x00000141B9522B80>))\u001b[0m\n\u001b[0m\u001b[1mDuring: typing of call at C:\\Users\\jaeyo\\anaconda3\\lib\\site-packages\\quantecon\\optimize\\root_finding.py (425)\n\u001b[0m\n\u001b[0m\u001b[1mDuring: resolving callee type: type(CPUDispatcher(<function σ_tilda_func at 0x00000141B9522B80>))\u001b[0m\n\u001b[0m\u001b[1mDuring: typing of call at C:\\Users\\jaeyo\\anaconda3\\lib\\site-packages\\quantecon\\optimize\\root_finding.py (426)\n\u001b[0m\n\u001b[0m\u001b[1mDuring: resolving callee type: type(CPUDispatcher(<function σ_tilda_func at 0x00000141B9522B80>))\u001b[0m\n\u001b[0m\u001b[1mDuring: typing of call at C:\\Users\\jaeyo\\anaconda3\\lib\\site-packages\\quantecon\\optimize\\root_finding.py (491)\n\u001b[0m\n\u001b[0m\u001b[1mDuring: resolving callee type: type(CPUDispatcher(<function σ_tilda_func at 0x00000141B9522B80>))\u001b[0m\n\u001b[0m\u001b[1mDuring: typing of call at C:\\Users\\jaeyo\\anaconda3\\lib\\site-packages\\quantecon\\optimize\\root_finding.py (425)\n\u001b[0m\n\u001b[1m\nFile \"..\\..\\..\\..\\anaconda3\\lib\\site-packages\\quantecon\\optimize\\root_finding.py\", line 425:\u001b[0m\n\u001b[1mdef brentq(f, a, b, args=(), xtol=_xtol,\n    <source elided>\n\n\u001b[1m    fpre = f(xpre, *args)\n\u001b[0m    \u001b[1m^\u001b[0m\u001b[0m\n"
     ]
    }
   ],
   "source": [
    "σ_tilda = np.empty_like(σ_inv)\n",
    "σ_inv_tilda = σ_inv\n",
    "for i, k in enumerate(og_EGM.grid):\n",
    "    results = brentq(σ_tilda_func, 1e-10, og_EGM.f(k)+(1-og_EGM.δ)*k-1e-10,args=(σ_inv_tilda,k))\n",
    "    σ_tilda[i] = results[0]"
   ]
  },
  {
   "cell_type": "code",
   "execution_count": 360,
   "metadata": {},
   "outputs": [],
   "source": [
    "k_opt_EGM = σ_tilda\n",
    "c_opt_EGM = og_EGM.f(k_opt_EGM)+(1-og_EGM.δ)*k_opt_EGM-k_opt_EGM"
   ]
  },
  {
   "cell_type": "code",
   "execution_count": 361,
   "metadata": {},
   "outputs": [
    {
     "data": {
      "image/png": "[encoded data removed]",
      "text/plain": [
       "<Figure size 648x432 with 1 Axes>"
      ]
     },
     "metadata": {
      "needs_background": "light"
     },
     "output_type": "display_data"
    }
   ],
   "source": [
    "fig, ax = plt.subplots()\n",
    "\n",
    "ax.plot(og_EGM.grid, k_opt_EGM, 'b-', lw=2, alpha=0.6, label='converged policy function')\n",
    "\n",
    "ax.legend()\n",
    "plt.show()"
   ]
  },
  {
   "cell_type": "code",
   "execution_count": 362,
   "metadata": {},
   "outputs": [
    {
     "data": {
      "image/png": "[encoded data removed]",
      "text/plain": [
       "<Figure size 648x432 with 1 Axes>"
      ]
     },
     "metadata": {
      "needs_background": "light"
     },
     "output_type": "display_data"
    }
   ],
   "source": [
    "fig, ax = plt.subplots()\n",
    "\n",
    "ax.plot(og_EGM.grid, c_opt_EGM, 'b-', lw=2, alpha=0.6, label='the consumption function')\n",
    "\n",
    "ax.legend()\n",
    "plt.show()"
   ]
  },
  {
   "cell_type": "code",
   "execution_count": 363,
   "metadata": {},
   "outputs": [],
   "source": [
    "def f_prime_inv(k):\n",
    "    return (k/og_EGM.α)**(1/(og_EGM.α-1))"
   ]
  },
  {
   "cell_type": "code",
   "execution_count": 364,
   "metadata": {},
   "outputs": [],
   "source": [
    "k_ss_EGM = f_prime_inv(1/og_EGM.β-1+og_EGM.δ)"
   ]
  },
  {
   "cell_type": "code",
   "execution_count": 365,
   "metadata": {},
   "outputs": [
    {
     "data": {
      "image/png": "[encoded data removed]",
      "text/plain": [
       "<Figure size 648x432 with 1 Axes>"
      ]
     },
     "metadata": {
      "needs_background": "light"
     },
     "output_type": "display_data"
    }
   ],
   "source": [
    "fig, ax = plt.subplots()\n",
    "\n",
    "ax.plot(og_EGM.grid, k_opt_EGM, 'b-', lw=2, alpha=0.6, label='converged policy function')\n",
    "ax.plot(og_EGM.grid, og_EGM.grid, label = '45 degree line')\n",
    "ax.scatter(k_ss_EGM, k_ss_EGM, s=80)\n",
    "ax.legend()\n",
    "plt.show()"
   ]
  }
 ],
 "metadata": {
  "kernelspec": {
   "display_name": "Python 3 (ipykernel)",
   "language": "python",
   "name": "python3"
  },
  "language_info": {
   "codemirror_mode": {
    "name": "ipython",
    "version": 3
   },
   "file_extension": ".py",
   "mimetype": "text/x-python",
   "name": "python",
   "nbconvert_exporter": "python",
   "pygments_lexer": "ipython3",
   "version": "3.9.12"
  }
 },
 "nbformat": 4,
 "nbformat_minor": 4
}
