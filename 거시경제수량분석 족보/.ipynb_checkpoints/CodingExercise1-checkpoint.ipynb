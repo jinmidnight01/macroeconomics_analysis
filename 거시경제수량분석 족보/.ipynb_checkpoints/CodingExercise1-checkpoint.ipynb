{
 "cells": [
  {
   "cell_type": "markdown",
   "metadata": {},
   "source": [
    "# Coding Exercise 1"
   ]
  },
  {
   "cell_type": "markdown",
   "metadata": {},
   "source": [
    "## A Simple Utility Maximization over Two Periods\n",
    "\n",
    "Let's consider a consumer\n",
    "\n",
    "- lives for two period (t = 1, 2)\n",
    "- whose preferences is represented by the following utility function:\n",
    "$$\n",
    "U(c_1, c_2) = \\log{c_1} + \\frac{1}{1+\\rho}\\log{c_2}\n",
    "$$\n",
    "where $\\rho>0$ us the consumer's time preference rate.\n",
    "- whose incomes in the two periods are given $y_1$ and $y_2$ respectively.\n",
    "\n",
    "There is a perfect credit market in which the consumer can borrow or lend at the market interest rate $r$ as she wishes."
   ]
  },
  {
   "cell_type": "markdown",
   "metadata": {},
   "source": [
    "## Question 1: Optimal Consumption\n",
    "\n",
    "- Derive the first order conditions for the utility maximization problem of the consumer.\n",
    "- Using the above conditions, solve for the optimal consumptions ($c_1^*$, $c_2^*$) as functions of incomes ($y_1$ and $y_2$), interest rate ($r$) and the time prfeference rate ($\\rho$). \n",
    "- Attach the image of your answers in a separate file."
   ]
  },
  {
   "cell_type": "markdown",
   "metadata": {},
   "source": [
    "## Question 2: Code for Optimal Consumption and Savings\n",
    "\n",
    "2-1. Write a function computing the optimal consumptions, $c_1^*$ and $c_2^*$, and the savings:\n",
    "- function name is **opt_cons**\n",
    "- two positional arguments ($y_1$, $y_2$) and two keyword arguments ($r=0.05$, $\\rho=0.05$)\n",
    "- return three results:\n",
    "    1. optimal consumption in period 1: $c_1^*$\n",
    "    2. optimal consumption in period 2: $c_2^*$\n",
    "    3. optimal savings in period 1: $s^*$. "
   ]
  },
  {
   "cell_type": "code",
   "execution_count": 1,
   "metadata": {},
   "outputs": [],
   "source": [
    "# your code here\n",
    "def opt_cons(y1, y2, r=0.05, ro=0.05):\n",
    "    c1 = ((1+ro)/(2+ro))*(y1+(y2/(1+r)))\n",
    "    c2 = ((1+r)/(2+ro))*(y1+(y2/(1+r)))\n",
    "    s = y1-c1\n",
    "    return c1,c2,s"
   ]
  },
  {
   "cell_type": "markdown",
   "metadata": {},
   "source": [
    "### Check if your function works properly \n",
    "\n",
    "- Compute $c_1^*$, $c_2^*$ and $s^*$ with $y_1=7$ and $y_2=5$"
   ]
  },
  {
   "cell_type": "code",
   "execution_count": 2,
   "metadata": {},
   "outputs": [
    {
     "data": {
      "text/plain": [
       "(6.02439024390244, 6.02439024390244, 0.9756097560975601)"
      ]
     },
     "execution_count": 2,
     "metadata": {},
     "output_type": "execute_result"
    }
   ],
   "source": [
    "# your code here\n",
    "opt_cons(7, 5)"
   ]
  },
  {
   "cell_type": "markdown",
   "metadata": {},
   "source": [
    "- How $c_1^*$, $c_2^*$ and $s^*$ change if the interest rate increases to $r=0.1$?"
   ]
  },
  {
   "cell_type": "code",
   "execution_count": 3,
   "metadata": {},
   "outputs": [
    {
     "data": {
      "text/plain": [
       "(5.913525498891352, 6.195121951219513, 1.0864745011086478)"
      ]
     },
     "execution_count": 3,
     "metadata": {},
     "output_type": "execute_result"
    }
   ],
   "source": [
    "# your code here\n",
    "opt_cons(7,5,r=0.1)"
   ]
  },
  {
   "cell_type": "code",
   "execution_count": 4,
   "metadata": {},
   "outputs": [
    {
     "data": {
      "text/plain": [
       "(-0.11086474501108778, 0.17073170731707332, 0.11086474501108778)"
      ]
     },
     "execution_count": 4,
     "metadata": {},
     "output_type": "execute_result"
    }
   ],
   "source": [
    "(opt_cons(7,5,r=0.1)[0]-opt_cons(7,5)[0], opt_cons(7,5,r=0.1)[1]-opt_cons(7,5)[1], opt_cons(7,5,r=0.1)[2]-opt_cons(7,5)[2])\n",
    "# 1기의 소비는 감소, 2기 소비는 증가한다. 1기 저축은 증가한다."
   ]
  },
  {
   "cell_type": "markdown",
   "metadata": {},
   "source": [
    "- How $c_1^*$, $c_2^*$ and $s^*$ change if the time preference rate increases to $\\rho=0.1$?"
   ]
  },
  {
   "cell_type": "code",
   "execution_count": 5,
   "metadata": {},
   "outputs": [
    {
     "data": {
      "text/plain": [
       "(6.1609977324263046, 5.880952380952381, 0.8390022675736954)"
      ]
     },
     "execution_count": 5,
     "metadata": {},
     "output_type": "execute_result"
    }
   ],
   "source": [
    "# your code here\n",
    "opt_cons(7,5,ro=0.1)"
   ]
  },
  {
   "cell_type": "code",
   "execution_count": 6,
   "metadata": {},
   "outputs": [
    {
     "data": {
      "text/plain": [
       "(0.13660748852386462, -0.14343786295005856, -0.13660748852386462)"
      ]
     },
     "execution_count": 6,
     "metadata": {},
     "output_type": "execute_result"
    }
   ],
   "source": [
    "(opt_cons(7,5,ro=0.1)[0]-opt_cons(7,5)[0], opt_cons(7,5,ro=0.1)[1]-opt_cons(7,5)[1], opt_cons(7,5,ro=0.1)[2]-opt_cons(7,5)[2])\n",
    "# 1기의 소비는 증가, 2기 소비는 감소한다. 1기 저축은 감소한다."
   ]
  },
  {
   "cell_type": "markdown",
   "metadata": {},
   "source": [
    "- Do the same as above with $y_1=5$ and $y_2=7$. In this case, savings in the period 1 is negative. "
   ]
  },
  {
   "cell_type": "code",
   "execution_count": 7,
   "metadata": {},
   "outputs": [
    {
     "data": {
      "text/plain": [
       "(5.975609756097561, 5.975609756097561, -0.975609756097561)"
      ]
     },
     "execution_count": 7,
     "metadata": {},
     "output_type": "execute_result"
    }
   ],
   "source": [
    "# your code here\n",
    "opt_cons(5,7)\n",
    "#1기의 저축은 negative."
   ]
  },
  {
   "cell_type": "markdown",
   "metadata": {},
   "source": [
    "## Question 3: Credit Market Equilibrium\n",
    "\n",
    "There are 10,000 consumers in the economy with different incomes over two period. Some consumers lend their money while others borrow depending on their income flows over two periods. \n",
    "\n",
    "The equilibrium in the credit market is achieved when aggregate savings equal to zero. In the followings, we will try to find the equilibrium interest rate. "
   ]
  },
  {
   "cell_type": "markdown",
   "metadata": {},
   "source": [
    "### Q3-1. Generate Income Vectors\n",
    "\n",
    "- Assume that consumer's incomes in both periods are uniformly distributed over $[0, 100]$, respectively. \n",
    "- Generate two arrays, **y1vec** and **y2vec**, that contain income in the period 1 and period 2 of consumers, respectively. \n",
    "- In order to do this, you will use the *uniform* function from **scipy** library as follows\n",
    "```python\n",
    "    from scipy.stats import uniform\n",
    "```"
   ]
  },
  {
   "cell_type": "code",
   "execution_count": 29,
   "metadata": {},
   "outputs": [],
   "source": [
    "# your code here\n",
    "import scipy as sp\n",
    "from scipy.stats import uniform\n",
    "import numpy as np\n",
    "np.random.seed(0)\n",
    "rv = uniform(loc = 0, scale = 100)\n",
    "y1vec=rv.rvs(size = 10000)\n",
    "y2vec=rv.rvs(size = 10000)"
   ]
  },
  {
   "cell_type": "code",
   "execution_count": 30,
   "metadata": {},
   "outputs": [
    {
     "data": {
      "text/plain": [
       "array([54.88135039, 71.51893664, 60.27633761, ..., 75.84295207,\n",
       "        2.37874275, 81.357508  ])"
      ]
     },
     "execution_count": 30,
     "metadata": {},
     "output_type": "execute_result"
    }
   ],
   "source": [
    "y1vec"
   ]
  },
  {
   "cell_type": "code",
   "execution_count": 31,
   "metadata": {},
   "outputs": [
    {
     "data": {
      "text/plain": [
       "array([74.82679813, 18.02027073, 38.90231445, ..., 44.64557603,\n",
       "       36.01266138, 62.5886646 ])"
      ]
     },
     "execution_count": 31,
     "metadata": {},
     "output_type": "execute_result"
    }
   ],
   "source": [
    "y2vec"
   ]
  },
  {
   "cell_type": "markdown",
   "metadata": {},
   "source": [
    "### Q3-2. Comnpute the optimal consumption and savings for all consumers\n",
    "\n",
    "- **c1vec**: a vector containing the optimal consumption in period 1 for all consumers\n",
    "- **c2vec**: a vector containing the optimal consumption in period 2 for all consumers\n",
    "- **svec**: a vector containing the optimal savings in period 1 for all consumers\n",
    "- You will use the function **opt_cons** that you wrote above.\n",
    "- Draw histograms for **c1vec**, **c1vec**, **svec** in 40 bins.\n",
    "- You need *pyplot* from **matplotlib** library to generate figures"
   ]
  },
  {
   "cell_type": "code",
   "execution_count": 32,
   "metadata": {},
   "outputs": [
    {
     "data": {
      "image/png": "[encoded data removed]",
      "text/plain": [
       "<Figure size 720x432 with 1 Axes>"
      ]
     },
     "metadata": {
      "needs_background": "light"
     },
     "output_type": "display_data"
    }
   ],
   "source": [
    "# your code here\n",
    "%matplotlib inline\n",
    "import matplotlib.pyplot as plt\n",
    "plt.rcParams['figure.figsize'] = (10,6)\n",
    "\n",
    "c1vec = opt_cons(y1vec, y2vec)[0]\n",
    "c2vec = opt_cons(y1vec, y2vec)[1]\n",
    "svec = opt_cons(y1vec, y2vec)[2]\n",
    "\n",
    "plt.hist(c1vec, bins=40)\n",
    "plt.title('c1vec')\n",
    "plt.show()"
   ]
  },
  {
   "cell_type": "code",
   "execution_count": 33,
   "metadata": {},
   "outputs": [
    {
     "data": {
      "image/png": "[encoded data removed]",
      "text/plain": [
       "<Figure size 720x432 with 1 Axes>"
      ]
     },
     "metadata": {
      "needs_background": "light"
     },
     "output_type": "display_data"
    }
   ],
   "source": [
    "plt.hist(c2vec, bins=40)\n",
    "plt.title('c2vec')\n",
    "plt.show()"
   ]
  },
  {
   "cell_type": "code",
   "execution_count": 34,
   "metadata": {},
   "outputs": [
    {
     "data": {
      "image/png": "[encoded data removed]",
      "text/plain": [
       "<Figure size 720x432 with 1 Axes>"
      ]
     },
     "metadata": {
      "needs_background": "light"
     },
     "output_type": "display_data"
    }
   ],
   "source": [
    "plt.hist(svec, bins=40)\n",
    "plt.title('svec')\n",
    "plt.show()"
   ]
  },
  {
   "cell_type": "markdown",
   "metadata": {},
   "source": [
    "### Q3-3. Aggregate Savings\n",
    "\n",
    "- Write a function that computes the aggregate savings with different values of interest rate\n",
    "    - The function name is **AggSavings** \n",
    "    - It takes **y1vec** and **y2vec** as keyword arguments.\n",
    "    - It use the **opt_cons** function to compute an individual consumer's savings."
   ]
  },
  {
   "cell_type": "code",
   "execution_count": 35,
   "metadata": {},
   "outputs": [],
   "source": [
    "# your code here\n",
    "def AggSavings(R,y1=y1vec, y2=y2vec):\n",
    "    return sum(opt_cons(y1, y2,r=R)[2])"
   ]
  },
  {
   "cell_type": "markdown",
   "metadata": {},
   "source": [
    "- Write a function that shows the graph of aggregate savings.\n",
    "    - The function name is **Draw_AggSavings**.\n",
    "    - It takes the interval of interest rates, $(r_1, r_2)$, where aggregate savings are computed.\n",
    "    - It constructs a grid vector, **rgrid**, for interest rates over $[r_1, r_2]$ with grid size 20.\n",
    "    - It computes aggregate savings for each grid point of **rgrid** using **AggSavings** function, and saves the result in a vector **agg_svec**.\n",
    "    - It uses *pyplot* from **matplot** library."
   ]
  },
  {
   "cell_type": "code",
   "execution_count": 36,
   "metadata": {},
   "outputs": [],
   "source": [
    "# your code here\n",
    "import matplotlib.pyplot as plt\n",
    "import numpy as np\n",
    "def Draw_AggSavings(r1, r2):\n",
    "    rgrid = np.linspace(r1,r2,20)\n",
    "    agg_svec=[]\n",
    "    for i in rgrid:\n",
    "        agg_svec.append(AggSavings(i))\n",
    "    plt.scatter(rgrid, agg_svec)\n",
    "    return plt.show()"
   ]
  },
  {
   "cell_type": "markdown",
   "metadata": {},
   "source": [
    "- Draw a figure for aggregate savings over the interval of interest rates $(0.01, 0.1)$.\n",
    "- Find that aggregate savings is positively correlated with interest rate."
   ]
  },
  {
   "cell_type": "code",
   "execution_count": 37,
   "metadata": {},
   "outputs": [
    {
     "data": {
      "image/png": "[encoded data removed]",
      "text/plain": [
       "<Figure size 720x432 with 1 Axes>"
      ]
     },
     "metadata": {
      "needs_background": "light"
     },
     "output_type": "display_data"
    }
   ],
   "source": [
    "# your code here\n",
    "Draw_AggSavings(0.01, 0.1)\n",
    "#저축은 금리와 양의 상관관계가 있다."
   ]
  },
  {
   "cell_type": "markdown",
   "metadata": {},
   "source": [
    "### Q3-4. Find the Equilibrium Interest Rate\n",
    "\n",
    "- Solve for the interest rate that makes the aggregate savings zero, i.e., $S(r^*) = \\sum_{i=1}^{N} s^*_i(r^*) = 0$.\n",
    "- Solving for the equilibrium interest rate boils down to solving for the root of the aggregate savings function. \n",
    "- For this, you will use the function **bisect** from **scipy** library:\n",
    "```python\n",
    "    from scipy.optimize import bisect\n",
    "```\n",
    "- In order to find the root using **bisect**, the root must be bracketed. i.e., $S(r_1) < 0$ and $S(r_2) > 0$ for $r_1 <r_2$. \n",
    "- Write a function to find a bracket for the root, i.e. the codeblock that finds ($r_1, r_2$).\n",
    "    - The function name is **Bracket_Roots**.\n",
    "    - It take a starting point, *r_init*, as an input argument from which it searches the bracket.\n",
    "    - It searches the lower bound ($r_1$) of the bracket first, and then the upper bound ($r_2$)."
   ]
  },
  {
   "cell_type": "code",
   "execution_count": 38,
   "metadata": {},
   "outputs": [],
   "source": [
    "# your code here\n",
    "def Bracket_Roots(r_init):\n",
    "    if AggSavings(r_init)<0:\n",
    "        bound =[]\n",
    "        r1=r_init\n",
    "        r2=0.1\n",
    "        while AggSavings(r2)>0:\n",
    "            r2 = r2-0.02\n",
    "            bound.append(r2)\n",
    "        del bound[-1]\n",
    "        final_bound = [r1,bound[-1]]\n",
    "    else:\n",
    "        bound = []\n",
    "        r1 = 0.01\n",
    "        r2 = r_init\n",
    "        while AggSavings(r1)<0:\n",
    "            r1 = r1+0.01\n",
    "            bound.append(r1)\n",
    "        del bound[-1]\n",
    "        final_bound = [bound[-1],r2]\n",
    "    return final_bound"
   ]
  },
  {
   "cell_type": "markdown",
   "metadata": {},
   "source": [
    "- Find the bracket of interest rates with *r_init = 0.05*."
   ]
  },
  {
   "cell_type": "code",
   "execution_count": 39,
   "metadata": {},
   "outputs": [
    {
     "data": {
      "text/plain": [
       "[0.04, 0.05]"
      ]
     },
     "execution_count": 39,
     "metadata": {},
     "output_type": "execute_result"
    }
   ],
   "source": [
    "# your code here\n",
    "Bracket_Roots(0.05)"
   ]
  },
  {
   "cell_type": "markdown",
   "metadata": {},
   "source": [
    "- Now find the equilibrium interest rate, *rstar* using **bisect**."
   ]
  },
  {
   "cell_type": "code",
   "execution_count": 40,
   "metadata": {},
   "outputs": [
    {
     "data": {
      "text/plain": [
       "0.04742126895464025"
      ]
     },
     "execution_count": 40,
     "metadata": {},
     "output_type": "execute_result"
    }
   ],
   "source": [
    "# your code here\n",
    "from scipy.optimize import bisect\n",
    "rstar = bisect(AggSavings, Bracket_Roots(0.05)[0], Bracket_Roots(0.05)[1])\n",
    "rstar"
   ]
  },
  {
   "cell_type": "markdown",
   "metadata": {},
   "source": [
    "- Write a function  that shows the equilibrium of the credit market graphically.\n",
    "    - The function name is **Draw_Equilibrium**.\n",
    "    - It takes most of the code block of **Draw_AggSavings**, only add a horizontal line that represents the zero level."
   ]
  },
  {
   "cell_type": "code",
   "execution_count": 41,
   "metadata": {},
   "outputs": [
    {
     "data": {
      "image/png": "[encoded data removed]",
      "text/plain": [
       "<Figure size 720x432 with 1 Axes>"
      ]
     },
     "metadata": {
      "needs_background": "light"
     },
     "output_type": "display_data"
    }
   ],
   "source": [
    "# your code here\n",
    "def Draw_Equilibrium(r1, r2):\n",
    "    rgrid = np.linspace(r1,r2,20)\n",
    "    agg_svec=[]\n",
    "    for i in rgrid:\n",
    "        agg_svec.append(AggSavings(i))\n",
    "    plt.scatter(rgrid, agg_svec)\n",
    "    plt.axhline(y=0,ls='--',c='k')\n",
    "    return plt.show()\n",
    "\n",
    "Draw_Equilibrium(0.01, 0.1)"
   ]
  },
  {
   "cell_type": "markdown",
   "metadata": {},
   "source": [
    "- Draw a figure for the credit market equilibrium over the interest rate bracket $(r_1, r_2)$ that you found above."
   ]
  },
  {
   "cell_type": "code",
   "execution_count": 42,
   "metadata": {},
   "outputs": [
    {
     "data": {
      "image/png": "[encoded data removed]",
      "text/plain": [
       "<Figure size 720x432 with 1 Axes>"
      ]
     },
     "metadata": {
      "needs_background": "light"
     },
     "output_type": "display_data"
    }
   ],
   "source": [
    "# your code here\n",
    "Draw_Equilibrium(0.04,0.05)"
   ]
  },
  {
   "cell_type": "code",
   "execution_count": null,
   "metadata": {},
   "outputs": [],
   "source": []
  }
 ],
 "metadata": {
  "kernelspec": {
   "display_name": "Python 3 (ipykernel)",
   "language": "python",
   "name": "python3"
  },
  "language_info": {
   "codemirror_mode": {
    "name": "ipython",
    "version": 3
   },
   "file_extension": ".py",
   "mimetype": "text/x-python",
   "name": "python",
   "nbconvert_exporter": "python",
   "pygments_lexer": "ipython3",
   "version": "3.9.12"
  }
 },
 "nbformat": 4,
 "nbformat_minor": 4
}
