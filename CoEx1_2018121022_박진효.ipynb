{
 "cells": [
  {
   "attachments": {},
   "cell_type": "markdown",
   "metadata": {},
   "source": [
    "## Consumer's Utiity Maximization Problem\n",
    "\n",
    "There are many consumers in an economy whose labor productivity $x$ and non-labor income $\\pi$ are different. An individual consumer is endowed with one unit of time that can be used on either working to make money for consumption or enjoying as leisure. The wage per hour is given by $w$ that is determined in the market. The utility function of the consumer is given by $ u(c, l) = c^{\\frac{1}{3}} l^{\\frac{2}{3}}$, where $c$ and $l$ denote consumption and leisure respectively."
   ]
  },
  {
   "attachments": {},
   "cell_type": "markdown",
   "metadata": {},
   "source": [
    "Q1. Solve an individual consumer's utility maximization problem to derive the optimal consumption ($c^*$), leisure ($l^*$) and the labor supply ($N^s$). Be careful for the corner solutions. Write the Latex code for your answers or include the scanned image file in the following Markdown cell. When you submit your Jupyter Notebook file, **you should also upload your image file together**"
   ]
  },
  {
   "attachments": {},
   "cell_type": "markdown",
   "metadata": {},
   "source": [
    "include answer file here"
   ]
  },
  {
   "attachments": {},
   "cell_type": "markdown",
   "metadata": {},
   "source": [
    "Q2. Write the Python function to compute the $(c^*, l^*, N^s$) for an individual consumer."
   ]
  },
  {
   "cell_type": "code",
   "execution_count": 1,
   "metadata": {},
   "outputs": [],
   "source": [
    "# your code here"
   ]
  },
  {
   "attachments": {},
   "cell_type": "markdown",
   "metadata": {},
   "source": [
    "Q3. For the time being, assume that $w=2$ and $\\sigma_x=0.3$. Then do the following using the function that you wrote above. "
   ]
  },
  {
   "attachments": {},
   "cell_type": "markdown",
   "metadata": {},
   "source": [
    "Q3-1. Draw the graphs for the optimal consumption and leisure for 30 individuals whose log productivities are equally distributed over the range $\\log{x} \\in [-3\\sigma_x, +3\\sigma_x]$, but non-labor incomes are identical at $\\pi=\\frac{1}{2}$."
   ]
  },
  {
   "cell_type": "code",
   "execution_count": 2,
   "metadata": {},
   "outputs": [],
   "source": [
    "# your code here"
   ]
  },
  {
   "attachments": {},
   "cell_type": "markdown",
   "metadata": {},
   "source": [
    "Q3-2. Draw the graphs for the optimal consumption and leisure for 30 individuals whose productivities are identical at $x=\\sigma_x$, but non-labor incomes are equally distributed over the whole range of $\\pi$, i.e., $\\pi \\in [0, 1]$."
   ]
  },
  {
   "cell_type": "code",
   "execution_count": 3,
   "metadata": {},
   "outputs": [],
   "source": [
    "# your code here\n"
   ]
  },
  {
   "attachments": {},
   "cell_type": "markdown",
   "metadata": {},
   "source": [
    "Q3-3. Draw the graphs (3-D surface plots) for the optimal consumption and leisure for individuals whose log productivities are equally distributed over the range of $\\log{x} \\in [-3\\sigma_x, +3\\sigma_x]$ and non-labor incomes are equally distributed over the rnage of $\\pi\\in [0, \\bar{\\pi}]$."
   ]
  },
  {
   "cell_type": "code",
   "execution_count": 4,
   "metadata": {},
   "outputs": [],
   "source": [
    "# your code here\n"
   ]
  },
  {
   "attachments": {},
   "cell_type": "markdown",
   "metadata": {},
   "source": [
    "Q3-4. Draw the labor supply curve for the following four individuals as the market wage varies over the range of $w\\in[1,4]$.\n",
    "\n",
    "- Individual 1: $\\log{x} = -\\sigma_x$ and $\\pi = 0.4$\n",
    "- Individual 2: $\\log{x} = -\\sigma_x$ and $\\pi = 0.6$\n",
    "- Individual 3: $\\log{x} = \\sigma_x$ and $\\pi = 0.4$\n",
    "- Individual 4: $\\log{x} = \\sigma_x$ and $\\pi = 0.6$"
   ]
  },
  {
   "cell_type": "code",
   "execution_count": 5,
   "metadata": {},
   "outputs": [],
   "source": [
    "# your code here\n"
   ]
  },
  {
   "attachments": {},
   "cell_type": "markdown",
   "metadata": {},
   "source": [
    "Q4. Suppose that there are 100,000 individuals in the economy whose labor productivities are drawn from the following distributionis: $\\log{x}\\sim N(0, \\sigma_x^2)$. The non-labor incomes of one half of the individuals are 0.4 and those of the other half are 0.6. Each individual behaves according to the utility maximization problem described above. Using the function that you write above, do the following.  \n"
   ]
  },
  {
   "attachments": {},
   "cell_type": "markdown",
   "metadata": {},
   "source": [
    "Q4-1. Generate 100,000 individuals and compute their labor supply assuming the market wage being equal to 2. Then draw histograms of the individual labor supplies of the two groups."
   ]
  },
  {
   "cell_type": "code",
   "execution_count": 6,
   "metadata": {},
   "outputs": [],
   "source": [
    "# your code here\n"
   ]
  },
  {
   "cell_type": "markdown",
   "metadata": {},
   "source": [
    "Q4-2. Then draw histograms of the individual labor supplies of the whole economy."
   ]
  },
  {
   "cell_type": "code",
   "execution_count": 7,
   "metadata": {},
   "outputs": [],
   "source": [
    "# your code here\n"
   ]
  },
  {
   "attachments": {},
   "cell_type": "markdown",
   "metadata": {},
   "source": [
    "Q4-3. Draw the aggregate labor supply curve as the market wage varies over the range of $w\\in[1,4]$.\n"
   ]
  },
  {
   "cell_type": "code",
   "execution_count": 8,
   "metadata": {},
   "outputs": [],
   "source": [
    "# your code here\n"
   ]
  }
 ],
 "metadata": {
  "kernelspec": {
   "display_name": "base",
   "language": "python",
   "name": "python3"
  },
  "language_info": {
   "codemirror_mode": {
    "name": "ipython",
    "version": 3
   },
   "file_extension": ".py",
   "mimetype": "text/x-python",
   "name": "python",
   "nbconvert_exporter": "python",
   "pygments_lexer": "ipython3",
   "version": "3.9.12"
  },
  "orig_nbformat": 4
 },
 "nbformat": 4,
 "nbformat_minor": 2
}
